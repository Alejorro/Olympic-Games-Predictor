{
 "nbformat": 4,
 "nbformat_minor": 2,
 "metadata": {
  "language_info": {
   "name": "python",
   "codemirror_mode": {
    "name": "ipython",
    "version": 3
   },
   "version": "3.6.9-final"
  },
  "orig_nbformat": 2,
  "file_extension": ".py",
  "mimetype": "text/x-python",
  "name": "python",
  "npconvert_exporter": "python",
  "pygments_lexer": "ipython3",
  "version": 3,
  "kernelspec": {
   "name": "python36964bit393d81eb15b54b0093ea31921d80c86d",
   "display_name": "Python 3.6.9 64-bit"
  }
 },
 "cells": [
  {
   "cell_type": "markdown",
   "metadata": {},
   "source": [
    "## Importación de librerías"
   ]
  },
  {
   "cell_type": "code",
   "execution_count": 558,
   "metadata": {},
   "outputs": [],
   "source": [
    "import pandas as pd"
   ]
  },
  {
   "cell_type": "markdown",
   "metadata": {},
   "source": [
    "## Limpieza de datos para reducción de features"
   ]
  },
  {
   "cell_type": "markdown",
   "metadata": {},
   "source": [
    "**Importación de CSV**"
   ]
  },
  {
   "cell_type": "code",
   "execution_count": 559,
   "metadata": {},
   "outputs": [],
   "source": [
    "df = pd.read_csv(\"../Input/athlete_events.csv\")  "
   ]
  },
  {
   "cell_type": "code",
   "execution_count": 560,
   "metadata": {},
   "outputs": [
    {
     "data": {
      "text/html": "<div>\n<style scoped>\n    .dataframe tbody tr th:only-of-type {\n        vertical-align: middle;\n    }\n\n    .dataframe tbody tr th {\n        vertical-align: top;\n    }\n\n    .dataframe thead th {\n        text-align: right;\n    }\n</style>\n<table border=\"1\" class=\"dataframe\">\n  <thead>\n    <tr style=\"text-align: right;\">\n      <th></th>\n      <th>ID</th>\n      <th>Name</th>\n      <th>Sex</th>\n      <th>Age</th>\n      <th>Height</th>\n      <th>Weight</th>\n      <th>Team</th>\n      <th>NOC</th>\n      <th>Games</th>\n      <th>Year</th>\n      <th>Season</th>\n      <th>City</th>\n      <th>Sport</th>\n      <th>Event</th>\n      <th>Medal</th>\n    </tr>\n  </thead>\n  <tbody>\n    <tr>\n      <th>0</th>\n      <td>1</td>\n      <td>A Dijiang</td>\n      <td>M</td>\n      <td>24.0</td>\n      <td>180.0</td>\n      <td>80.0</td>\n      <td>China</td>\n      <td>CHN</td>\n      <td>1992 Summer</td>\n      <td>1992</td>\n      <td>Summer</td>\n      <td>Barcelona</td>\n      <td>Basketball</td>\n      <td>Basketball Men's Basketball</td>\n      <td>NaN</td>\n    </tr>\n    <tr>\n      <th>1</th>\n      <td>2</td>\n      <td>A Lamusi</td>\n      <td>M</td>\n      <td>23.0</td>\n      <td>170.0</td>\n      <td>60.0</td>\n      <td>China</td>\n      <td>CHN</td>\n      <td>2012 Summer</td>\n      <td>2012</td>\n      <td>Summer</td>\n      <td>London</td>\n      <td>Judo</td>\n      <td>Judo Men's Extra-Lightweight</td>\n      <td>NaN</td>\n    </tr>\n  </tbody>\n</table>\n</div>",
      "text/plain": "   ID       Name Sex   Age  Height  Weight   Team  NOC        Games  Year  \\\n0   1  A Dijiang   M  24.0   180.0    80.0  China  CHN  1992 Summer  1992   \n1   2   A Lamusi   M  23.0   170.0    60.0  China  CHN  2012 Summer  2012   \n\n   Season       City       Sport                         Event Medal  \n0  Summer  Barcelona  Basketball   Basketball Men's Basketball   NaN  \n1  Summer     London        Judo  Judo Men's Extra-Lightweight   NaN  "
     },
     "execution_count": 560,
     "metadata": {},
     "output_type": "execute_result"
    }
   ],
   "source": [
    "df.head(2)"
   ]
  },
  {
   "cell_type": "markdown",
   "metadata": {},
   "source": [
    "**Si queremos agrupar por país (lo más requerido, probablemente), hay que limpiar su información**"
   ]
  },
  {
   "cell_type": "code",
   "execution_count": 561,
   "metadata": {},
   "outputs": [
    {
     "data": {
      "text/plain": "USA    18853\nFRA    12758\nGBR    12256\nITA    10715\nGER     9830\n       ...  \nYMD        5\nSSD        3\nUNK        2\nNBO        2\nNFL        1\nName: NOC, Length: 230, dtype: int64"
     },
     "execution_count": 561,
     "metadata": {},
     "output_type": "execute_result"
    }
   ],
   "source": [
    "df[\"NOC\"].value_counts()"
   ]
  },
  {
   "cell_type": "markdown",
   "metadata": {},
   "source": [
    "**Importamos el dataset de optimización de países**"
   ]
  },
  {
   "cell_type": "code",
   "execution_count": 562,
   "metadata": {},
   "outputs": [
    {
     "data": {
      "text/html": "<div>\n<style scoped>\n    .dataframe tbody tr th:only-of-type {\n        vertical-align: middle;\n    }\n\n    .dataframe tbody tr th {\n        vertical-align: top;\n    }\n\n    .dataframe thead th {\n        text-align: right;\n    }\n</style>\n<table border=\"1\" class=\"dataframe\">\n  <thead>\n    <tr style=\"text-align: right;\">\n      <th></th>\n      <th>NOC</th>\n      <th>region</th>\n      <th>notes</th>\n    </tr>\n  </thead>\n  <tbody>\n    <tr>\n      <th>0</th>\n      <td>AFG</td>\n      <td>Afghanistan</td>\n      <td>NaN</td>\n    </tr>\n    <tr>\n      <th>1</th>\n      <td>AHO</td>\n      <td>Curacao</td>\n      <td>Netherlands Antilles</td>\n    </tr>\n    <tr>\n      <th>2</th>\n      <td>ALB</td>\n      <td>Albania</td>\n      <td>NaN</td>\n    </tr>\n    <tr>\n      <th>3</th>\n      <td>ALG</td>\n      <td>Algeria</td>\n      <td>NaN</td>\n    </tr>\n    <tr>\n      <th>4</th>\n      <td>AND</td>\n      <td>Andorra</td>\n      <td>NaN</td>\n    </tr>\n  </tbody>\n</table>\n</div>",
      "text/plain": "   NOC       region                 notes\n0  AFG  Afghanistan                   NaN\n1  AHO      Curacao  Netherlands Antilles\n2  ALB      Albania                   NaN\n3  ALG      Algeria                   NaN\n4  AND      Andorra                   NaN"
     },
     "execution_count": 562,
     "metadata": {},
     "output_type": "execute_result"
    }
   ],
   "source": [
    "df2 = pd.read_csv(\"../Input/noc_regions.csv\")  \n",
    "\n",
    "df2.head()"
   ]
  },
  {
   "cell_type": "code",
   "execution_count": 563,
   "metadata": {},
   "outputs": [],
   "source": [
    "df2 = df2.drop(columns=[\"notes\"])"
   ]
  },
  {
   "cell_type": "code",
   "execution_count": 564,
   "metadata": {},
   "outputs": [
    {
     "data": {
      "text/html": "<div>\n<style scoped>\n    .dataframe tbody tr th:only-of-type {\n        vertical-align: middle;\n    }\n\n    .dataframe tbody tr th {\n        vertical-align: top;\n    }\n\n    .dataframe thead th {\n        text-align: right;\n    }\n</style>\n<table border=\"1\" class=\"dataframe\">\n  <thead>\n    <tr style=\"text-align: right;\">\n      <th></th>\n      <th>NOC</th>\n      <th>region</th>\n    </tr>\n  </thead>\n  <tbody>\n    <tr>\n      <th>0</th>\n      <td>AFG</td>\n      <td>Afghanistan</td>\n    </tr>\n    <tr>\n      <th>1</th>\n      <td>AHO</td>\n      <td>Curacao</td>\n    </tr>\n    <tr>\n      <th>2</th>\n      <td>ALB</td>\n      <td>Albania</td>\n    </tr>\n    <tr>\n      <th>3</th>\n      <td>ALG</td>\n      <td>Algeria</td>\n    </tr>\n    <tr>\n      <th>4</th>\n      <td>AND</td>\n      <td>Andorra</td>\n    </tr>\n  </tbody>\n</table>\n</div>",
      "text/plain": "   NOC       region\n0  AFG  Afghanistan\n1  AHO      Curacao\n2  ALB      Albania\n3  ALG      Algeria\n4  AND      Andorra"
     },
     "execution_count": 564,
     "metadata": {},
     "output_type": "execute_result"
    }
   ],
   "source": [
    "df2.head()"
   ]
  },
  {
   "cell_type": "markdown",
   "metadata": {},
   "source": [
    "**Fusionamos los datasets**"
   ]
  },
  {
   "cell_type": "code",
   "execution_count": 565,
   "metadata": {},
   "outputs": [],
   "source": [
    "df3 = df.merge(df2, on='NOC')"
   ]
  },
  {
   "cell_type": "code",
   "execution_count": 566,
   "metadata": {},
   "outputs": [
    {
     "data": {
      "text/html": "<div>\n<style scoped>\n    .dataframe tbody tr th:only-of-type {\n        vertical-align: middle;\n    }\n\n    .dataframe tbody tr th {\n        vertical-align: top;\n    }\n\n    .dataframe thead th {\n        text-align: right;\n    }\n</style>\n<table border=\"1\" class=\"dataframe\">\n  <thead>\n    <tr style=\"text-align: right;\">\n      <th></th>\n      <th>ID</th>\n      <th>Name</th>\n      <th>Sex</th>\n      <th>Age</th>\n      <th>Height</th>\n      <th>Weight</th>\n      <th>Team</th>\n      <th>NOC</th>\n      <th>Games</th>\n      <th>Year</th>\n      <th>Season</th>\n      <th>City</th>\n      <th>Sport</th>\n      <th>Event</th>\n      <th>Medal</th>\n      <th>region</th>\n    </tr>\n  </thead>\n  <tbody>\n    <tr>\n      <th>0</th>\n      <td>1</td>\n      <td>A Dijiang</td>\n      <td>M</td>\n      <td>24.0</td>\n      <td>180.0</td>\n      <td>80.0</td>\n      <td>China</td>\n      <td>CHN</td>\n      <td>1992 Summer</td>\n      <td>1992</td>\n      <td>Summer</td>\n      <td>Barcelona</td>\n      <td>Basketball</td>\n      <td>Basketball Men's Basketball</td>\n      <td>NaN</td>\n      <td>China</td>\n    </tr>\n    <tr>\n      <th>1</th>\n      <td>2</td>\n      <td>A Lamusi</td>\n      <td>M</td>\n      <td>23.0</td>\n      <td>170.0</td>\n      <td>60.0</td>\n      <td>China</td>\n      <td>CHN</td>\n      <td>2012 Summer</td>\n      <td>2012</td>\n      <td>Summer</td>\n      <td>London</td>\n      <td>Judo</td>\n      <td>Judo Men's Extra-Lightweight</td>\n      <td>NaN</td>\n      <td>China</td>\n    </tr>\n  </tbody>\n</table>\n</div>",
      "text/plain": "   ID       Name Sex   Age  Height  Weight   Team  NOC        Games  Year  \\\n0   1  A Dijiang   M  24.0   180.0    80.0  China  CHN  1992 Summer  1992   \n1   2   A Lamusi   M  23.0   170.0    60.0  China  CHN  2012 Summer  2012   \n\n   Season       City       Sport                         Event Medal region  \n0  Summer  Barcelona  Basketball   Basketball Men's Basketball   NaN  China  \n1  Summer     London        Judo  Judo Men's Extra-Lightweight   NaN  China  "
     },
     "execution_count": 566,
     "metadata": {},
     "output_type": "execute_result"
    }
   ],
   "source": [
    "df3.head(2)"
   ]
  },
  {
   "cell_type": "markdown",
   "metadata": {},
   "source": [
    "**Continuamos la limpieza tradicional...**"
   ]
  },
  {
   "cell_type": "code",
   "execution_count": 567,
   "metadata": {},
   "outputs": [],
   "source": [
    "df3 = df3.loc[df3[\"Season\"] == \"Summer\"].drop(columns=\"Season\")"
   ]
  },
  {
   "cell_type": "code",
   "execution_count": 568,
   "metadata": {},
   "outputs": [],
   "source": [
    "df3 = pd.get_dummies(df3,columns=[\"Sex\"])"
   ]
  },
  {
   "cell_type": "code",
   "execution_count": 569,
   "metadata": {},
   "outputs": [],
   "source": [
    "df3 = df3.drop(columns=[\"ID\",\"Games\",\"Event\",\"Team\",\"NOC\",\"Height\",\"Weight\"])"
   ]
  },
  {
   "cell_type": "code",
   "execution_count": 570,
   "metadata": {},
   "outputs": [],
   "source": [
    "df3 = df3.rename(columns={\"City\": \"Host City\", \"region\": \"Region\",\"Name\":\"Athlete\"})"
   ]
  },
  {
   "cell_type": "code",
   "execution_count": 571,
   "metadata": {},
   "outputs": [
    {
     "data": {
      "text/html": "<div>\n<style scoped>\n    .dataframe tbody tr th:only-of-type {\n        vertical-align: middle;\n    }\n\n    .dataframe tbody tr th {\n        vertical-align: top;\n    }\n\n    .dataframe thead th {\n        text-align: right;\n    }\n</style>\n<table border=\"1\" class=\"dataframe\">\n  <thead>\n    <tr style=\"text-align: right;\">\n      <th></th>\n      <th>Athlete</th>\n      <th>Age</th>\n      <th>Year</th>\n      <th>Host City</th>\n      <th>Sport</th>\n      <th>Medal</th>\n      <th>Region</th>\n      <th>Sex_F</th>\n      <th>Sex_M</th>\n    </tr>\n  </thead>\n  <tbody>\n    <tr>\n      <th>0</th>\n      <td>A Dijiang</td>\n      <td>24.0</td>\n      <td>1992</td>\n      <td>Barcelona</td>\n      <td>Basketball</td>\n      <td>NaN</td>\n      <td>China</td>\n      <td>0</td>\n      <td>1</td>\n    </tr>\n    <tr>\n      <th>1</th>\n      <td>A Lamusi</td>\n      <td>23.0</td>\n      <td>2012</td>\n      <td>London</td>\n      <td>Judo</td>\n      <td>NaN</td>\n      <td>China</td>\n      <td>0</td>\n      <td>1</td>\n    </tr>\n    <tr>\n      <th>2</th>\n      <td>Abudoureheman</td>\n      <td>22.0</td>\n      <td>2000</td>\n      <td>Sydney</td>\n      <td>Boxing</td>\n      <td>NaN</td>\n      <td>China</td>\n      <td>0</td>\n      <td>1</td>\n    </tr>\n    <tr>\n      <th>3</th>\n      <td>Ai Linuer</td>\n      <td>25.0</td>\n      <td>2004</td>\n      <td>Athina</td>\n      <td>Wrestling</td>\n      <td>NaN</td>\n      <td>China</td>\n      <td>0</td>\n      <td>1</td>\n    </tr>\n    <tr>\n      <th>4</th>\n      <td>Ai Yanhan</td>\n      <td>14.0</td>\n      <td>2016</td>\n      <td>Rio de Janeiro</td>\n      <td>Swimming</td>\n      <td>NaN</td>\n      <td>China</td>\n      <td>1</td>\n      <td>0</td>\n    </tr>\n  </tbody>\n</table>\n</div>",
      "text/plain": "         Athlete   Age  Year       Host City       Sport Medal Region  Sex_F  \\\n0      A Dijiang  24.0  1992       Barcelona  Basketball   NaN  China      0   \n1       A Lamusi  23.0  2012          London        Judo   NaN  China      0   \n2  Abudoureheman  22.0  2000          Sydney      Boxing   NaN  China      0   \n3      Ai Linuer  25.0  2004          Athina   Wrestling   NaN  China      0   \n4      Ai Yanhan  14.0  2016  Rio de Janeiro    Swimming   NaN  China      1   \n\n   Sex_M  \n0      1  \n1      1  \n2      1  \n3      1  \n4      0  "
     },
     "execution_count": 571,
     "metadata": {},
     "output_type": "execute_result"
    }
   ],
   "source": [
    "df3.head()"
   ]
  },
  {
   "cell_type": "markdown",
   "metadata": {},
   "source": [
    "**Obtenemos los países anfitriones a partir de las ciudades**"
   ]
  },
  {
   "cell_type": "code",
   "execution_count": 572,
   "metadata": {},
   "outputs": [],
   "source": [
    "df4 = pd.read_csv(\"../Input/host_cities.csv\")  "
   ]
  },
  {
   "cell_type": "code",
   "execution_count": 573,
   "metadata": {},
   "outputs": [
    {
     "data": {
      "text/html": "<div>\n<style scoped>\n    .dataframe tbody tr th:only-of-type {\n        vertical-align: middle;\n    }\n\n    .dataframe tbody tr th {\n        vertical-align: top;\n    }\n\n    .dataframe thead th {\n        text-align: right;\n    }\n</style>\n<table border=\"1\" class=\"dataframe\">\n  <thead>\n    <tr style=\"text-align: right;\">\n      <th></th>\n      <th>Host City</th>\n      <th>Host Country</th>\n    </tr>\n  </thead>\n  <tbody>\n    <tr>\n      <th>0</th>\n      <td>Barcelona</td>\n      <td>ESP</td>\n    </tr>\n    <tr>\n      <th>1</th>\n      <td>London</td>\n      <td>GBR</td>\n    </tr>\n    <tr>\n      <th>2</th>\n      <td>Antwerpen</td>\n      <td>BEL</td>\n    </tr>\n    <tr>\n      <th>3</th>\n      <td>Paris</td>\n      <td>FRA</td>\n    </tr>\n    <tr>\n      <th>4</th>\n      <td>Calgary</td>\n      <td>CAN</td>\n    </tr>\n  </tbody>\n</table>\n</div>",
      "text/plain": "   Host City Host Country\n0  Barcelona          ESP\n1     London          GBR\n2  Antwerpen          BEL\n3      Paris          FRA\n4    Calgary          CAN"
     },
     "execution_count": 573,
     "metadata": {},
     "output_type": "execute_result"
    }
   ],
   "source": [
    "df4.head()"
   ]
  },
  {
   "cell_type": "code",
   "execution_count": 574,
   "metadata": {},
   "outputs": [],
   "source": [
    "df5 = df3.merge(df4, on='Host City').drop(columns=\"Host City\")"
   ]
  },
  {
   "cell_type": "code",
   "execution_count": 575,
   "metadata": {},
   "outputs": [
    {
     "data": {
      "text/html": "<div>\n<style scoped>\n    .dataframe tbody tr th:only-of-type {\n        vertical-align: middle;\n    }\n\n    .dataframe tbody tr th {\n        vertical-align: top;\n    }\n\n    .dataframe thead th {\n        text-align: right;\n    }\n</style>\n<table border=\"1\" class=\"dataframe\">\n  <thead>\n    <tr style=\"text-align: right;\">\n      <th></th>\n      <th>Athlete</th>\n      <th>Age</th>\n      <th>Year</th>\n      <th>Sport</th>\n      <th>Medal</th>\n      <th>Region</th>\n      <th>Sex_F</th>\n      <th>Sex_M</th>\n      <th>Host Country</th>\n    </tr>\n  </thead>\n  <tbody>\n    <tr>\n      <th>0</th>\n      <td>A Dijiang</td>\n      <td>24.0</td>\n      <td>1992</td>\n      <td>Basketball</td>\n      <td>NaN</td>\n      <td>China</td>\n      <td>0</td>\n      <td>1</td>\n      <td>ESP</td>\n    </tr>\n    <tr>\n      <th>1</th>\n      <td>Bai Chongguang</td>\n      <td>21.0</td>\n      <td>1992</td>\n      <td>Boxing</td>\n      <td>NaN</td>\n      <td>China</td>\n      <td>0</td>\n      <td>1</td>\n      <td>ESP</td>\n    </tr>\n    <tr>\n      <th>2</th>\n      <td>Bai Mei</td>\n      <td>17.0</td>\n      <td>1992</td>\n      <td>Rhythmic Gymnastics</td>\n      <td>NaN</td>\n      <td>China</td>\n      <td>1</td>\n      <td>0</td>\n      <td>ESP</td>\n    </tr>\n    <tr>\n      <th>3</th>\n      <td>Bi Zhong</td>\n      <td>23.0</td>\n      <td>1992</td>\n      <td>Athletics</td>\n      <td>NaN</td>\n      <td>China</td>\n      <td>0</td>\n      <td>1</td>\n      <td>ESP</td>\n    </tr>\n    <tr>\n      <th>4</th>\n      <td>Cai Yanshu</td>\n      <td>28.0</td>\n      <td>1992</td>\n      <td>Weightlifting</td>\n      <td>NaN</td>\n      <td>China</td>\n      <td>0</td>\n      <td>1</td>\n      <td>ESP</td>\n    </tr>\n  </tbody>\n</table>\n</div>",
      "text/plain": "          Athlete   Age  Year                Sport Medal Region  Sex_F  Sex_M  \\\n0       A Dijiang  24.0  1992           Basketball   NaN  China      0      1   \n1  Bai Chongguang  21.0  1992               Boxing   NaN  China      0      1   \n2         Bai Mei  17.0  1992  Rhythmic Gymnastics   NaN  China      1      0   \n3        Bi Zhong  23.0  1992            Athletics   NaN  China      0      1   \n4      Cai Yanshu  28.0  1992        Weightlifting   NaN  China      0      1   \n\n  Host Country  \n0          ESP  \n1          ESP  \n2          ESP  \n3          ESP  \n4          ESP  "
     },
     "execution_count": 575,
     "metadata": {},
     "output_type": "execute_result"
    }
   ],
   "source": [
    "df5.head()"
   ]
  },
  {
   "cell_type": "markdown",
   "metadata": {},
   "source": [
    "**Reordenamos las columnas del dataset para mejor comprensión**"
   ]
  },
  {
   "cell_type": "code",
   "execution_count": 576,
   "metadata": {},
   "outputs": [
    {
     "data": {
      "text/html": "<div>\n<style scoped>\n    .dataframe tbody tr th:only-of-type {\n        vertical-align: middle;\n    }\n\n    .dataframe tbody tr th {\n        vertical-align: top;\n    }\n\n    .dataframe thead th {\n        text-align: right;\n    }\n</style>\n<table border=\"1\" class=\"dataframe\">\n  <thead>\n    <tr style=\"text-align: right;\">\n      <th></th>\n      <th>Host Country</th>\n      <th>Athlete</th>\n      <th>Age</th>\n      <th>Year</th>\n      <th>Sport</th>\n      <th>Region</th>\n      <th>Sex_F</th>\n      <th>Sex_M</th>\n      <th>Medal</th>\n    </tr>\n  </thead>\n  <tbody>\n    <tr>\n      <th>0</th>\n      <td>ESP</td>\n      <td>A Dijiang</td>\n      <td>24.0</td>\n      <td>1992</td>\n      <td>Basketball</td>\n      <td>China</td>\n      <td>0</td>\n      <td>1</td>\n      <td>NaN</td>\n    </tr>\n    <tr>\n      <th>1</th>\n      <td>ESP</td>\n      <td>Bai Chongguang</td>\n      <td>21.0</td>\n      <td>1992</td>\n      <td>Boxing</td>\n      <td>China</td>\n      <td>0</td>\n      <td>1</td>\n      <td>NaN</td>\n    </tr>\n    <tr>\n      <th>2</th>\n      <td>ESP</td>\n      <td>Bai Mei</td>\n      <td>17.0</td>\n      <td>1992</td>\n      <td>Rhythmic Gymnastics</td>\n      <td>China</td>\n      <td>1</td>\n      <td>0</td>\n      <td>NaN</td>\n    </tr>\n    <tr>\n      <th>3</th>\n      <td>ESP</td>\n      <td>Bi Zhong</td>\n      <td>23.0</td>\n      <td>1992</td>\n      <td>Athletics</td>\n      <td>China</td>\n      <td>0</td>\n      <td>1</td>\n      <td>NaN</td>\n    </tr>\n    <tr>\n      <th>4</th>\n      <td>ESP</td>\n      <td>Cai Yanshu</td>\n      <td>28.0</td>\n      <td>1992</td>\n      <td>Weightlifting</td>\n      <td>China</td>\n      <td>0</td>\n      <td>1</td>\n      <td>NaN</td>\n    </tr>\n  </tbody>\n</table>\n</div>",
      "text/plain": "  Host Country         Athlete   Age  Year                Sport Region  Sex_F  \\\n0          ESP       A Dijiang  24.0  1992           Basketball  China      0   \n1          ESP  Bai Chongguang  21.0  1992               Boxing  China      0   \n2          ESP         Bai Mei  17.0  1992  Rhythmic Gymnastics  China      1   \n3          ESP        Bi Zhong  23.0  1992            Athletics  China      0   \n4          ESP      Cai Yanshu  28.0  1992        Weightlifting  China      0   \n\n   Sex_M Medal  \n0      1   NaN  \n1      1   NaN  \n2      0   NaN  \n3      1   NaN  \n4      1   NaN  "
     },
     "execution_count": 576,
     "metadata": {},
     "output_type": "execute_result"
    }
   ],
   "source": [
    "df5 = df5[[\"Host Country\", \"Athlete\", \"Age\", \"Year\", \"Sport\", \"Region\", \"Sex_F\", \"Sex_M\", \"Medal\"]]\n",
    "\n",
    "df5.head()"
   ]
  },
  {
   "cell_type": "markdown",
   "metadata": {},
   "source": [
    "**Conversión de valores categóricos a numéricos**"
   ]
  },
  {
   "cell_type": "code",
   "execution_count": 577,
   "metadata": {},
   "outputs": [
    {
     "data": {
      "text/plain": "Host Country     object\nAthlete          object\nAge             float64\nYear              int64\nSport            object\nRegion           object\nSex_F             uint8\nSex_M             uint8\nMedal            object\ndtype: object"
     },
     "execution_count": 577,
     "metadata": {},
     "output_type": "execute_result"
    }
   ],
   "source": [
    "df5.dtypes"
   ]
  },
  {
   "cell_type": "code",
   "execution_count": 578,
   "metadata": {},
   "outputs": [],
   "source": [
    "df5 = pd.get_dummies(df5,columns=[\"Medal\"])"
   ]
  },
  {
   "cell_type": "code",
   "execution_count": 579,
   "metadata": {},
   "outputs": [
    {
     "data": {
      "text/html": "<div>\n<style scoped>\n    .dataframe tbody tr th:only-of-type {\n        vertical-align: middle;\n    }\n\n    .dataframe tbody tr th {\n        vertical-align: top;\n    }\n\n    .dataframe thead th {\n        text-align: right;\n    }\n</style>\n<table border=\"1\" class=\"dataframe\">\n  <thead>\n    <tr style=\"text-align: right;\">\n      <th></th>\n      <th>Host Country</th>\n      <th>Year</th>\n      <th>Region</th>\n      <th>Athlete</th>\n      <th>Sport</th>\n      <th>Medal_Gold</th>\n      <th>Medal_Silver</th>\n      <th>Medal_Bronze</th>\n    </tr>\n  </thead>\n  <tbody>\n    <tr>\n      <th>2788</th>\n      <td>USA</td>\n      <td>1996</td>\n      <td>Virgin Islands, British</td>\n      <td>7</td>\n      <td>2</td>\n      <td>0</td>\n      <td>0</td>\n      <td>0</td>\n    </tr>\n    <tr>\n      <th>2789</th>\n      <td>USA</td>\n      <td>1996</td>\n      <td>Virgin Islands, US</td>\n      <td>12</td>\n      <td>5</td>\n      <td>0</td>\n      <td>0</td>\n      <td>0</td>\n    </tr>\n    <tr>\n      <th>2790</th>\n      <td>USA</td>\n      <td>1996</td>\n      <td>Yemen</td>\n      <td>4</td>\n      <td>2</td>\n      <td>0</td>\n      <td>0</td>\n      <td>0</td>\n    </tr>\n    <tr>\n      <th>2791</th>\n      <td>USA</td>\n      <td>1996</td>\n      <td>Zambia</td>\n      <td>8</td>\n      <td>2</td>\n      <td>0</td>\n      <td>1</td>\n      <td>0</td>\n    </tr>\n    <tr>\n      <th>2792</th>\n      <td>USA</td>\n      <td>1996</td>\n      <td>Zimbabwe</td>\n      <td>13</td>\n      <td>6</td>\n      <td>0</td>\n      <td>0</td>\n      <td>0</td>\n    </tr>\n  </tbody>\n</table>\n</div>",
      "text/plain": "     Host Country  Year                   Region  Athlete  Sport  Medal_Gold  \\\n2788          USA  1996  Virgin Islands, British        7      2           0   \n2789          USA  1996       Virgin Islands, US       12      5           0   \n2790          USA  1996                    Yemen        4      2           0   \n2791          USA  1996                   Zambia        8      2           0   \n2792          USA  1996                 Zimbabwe       13      6           0   \n\n      Medal_Silver  Medal_Bronze  \n2788             0             0  \n2789             0             0  \n2790             0             0  \n2791             1             0  \n2792             0             0  "
     },
     "execution_count": 579,
     "metadata": {},
     "output_type": "execute_result"
    }
   ],
   "source": [
    "df5 = pd.DataFrame(df5.groupby(['Host Country','Year','Region']).agg({'Athlete':\"nunique\", 'Sport':\"nunique\",'Medal_Gold':\"sum\",'Medal_Silver':\"sum\", 'Medal_Bronze':\"sum\"}))\n",
    "\n",
    "df5.reset_index().tail()"
   ]
  },
  {
   "cell_type": "markdown",
   "metadata": {},
   "source": [
    "**Continuamos la limpieza tradicional**"
   ]
  },
  {
   "cell_type": "code",
   "execution_count": 580,
   "metadata": {},
   "outputs": [
    {
     "data": {
      "text/html": "<div>\n<style scoped>\n    .dataframe tbody tr th:only-of-type {\n        vertical-align: middle;\n    }\n\n    .dataframe tbody tr th {\n        vertical-align: top;\n    }\n\n    .dataframe thead th {\n        text-align: right;\n    }\n</style>\n<table border=\"1\" class=\"dataframe\">\n  <thead>\n    <tr style=\"text-align: right;\">\n      <th></th>\n      <th>Host Country</th>\n      <th>Year</th>\n      <th>Region</th>\n      <th>Athlete</th>\n      <th>Sport</th>\n      <th>Medal_Gold</th>\n      <th>Medal_Silver</th>\n      <th>Medal_Bronze</th>\n      <th>Medals</th>\n    </tr>\n  </thead>\n  <tbody>\n    <tr>\n      <th>0</th>\n      <td>AUS</td>\n      <td>1956</td>\n      <td>Afghanistan</td>\n      <td>12</td>\n      <td>1</td>\n      <td>0</td>\n      <td>0</td>\n      <td>0</td>\n      <td>0</td>\n    </tr>\n    <tr>\n      <th>1</th>\n      <td>AUS</td>\n      <td>1956</td>\n      <td>Argentina</td>\n      <td>28</td>\n      <td>8</td>\n      <td>0</td>\n      <td>1</td>\n      <td>1</td>\n      <td>2</td>\n    </tr>\n    <tr>\n      <th>2</th>\n      <td>AUS</td>\n      <td>1956</td>\n      <td>Australia</td>\n      <td>294</td>\n      <td>18</td>\n      <td>28</td>\n      <td>13</td>\n      <td>26</td>\n      <td>67</td>\n    </tr>\n    <tr>\n      <th>3</th>\n      <td>AUS</td>\n      <td>1956</td>\n      <td>Austria</td>\n      <td>29</td>\n      <td>11</td>\n      <td>0</td>\n      <td>0</td>\n      <td>4</td>\n      <td>4</td>\n    </tr>\n    <tr>\n      <th>4</th>\n      <td>AUS</td>\n      <td>1956</td>\n      <td>Bahamas</td>\n      <td>4</td>\n      <td>2</td>\n      <td>0</td>\n      <td>0</td>\n      <td>2</td>\n      <td>2</td>\n    </tr>\n  </tbody>\n</table>\n</div>",
      "text/plain": "  Host Country  Year       Region  Athlete  Sport  Medal_Gold  Medal_Silver  \\\n0          AUS  1956  Afghanistan       12      1           0             0   \n1          AUS  1956    Argentina       28      8           0             1   \n2          AUS  1956    Australia      294     18          28            13   \n3          AUS  1956      Austria       29     11           0             0   \n4          AUS  1956      Bahamas        4      2           0             0   \n\n   Medal_Bronze  Medals  \n0             0       0  \n1             1       2  \n2            26      67  \n3             4       4  \n4             2       2  "
     },
     "execution_count": 580,
     "metadata": {},
     "output_type": "execute_result"
    }
   ],
   "source": [
    "df5['Medals'] = df5.loc[:, 'Medal_Gold':'Medal_Bronze'].sum(1)\n",
    "\n",
    "df5 = df5.reset_index()\n",
    "\n",
    "df5.head()"
   ]
  },
  {
   "cell_type": "code",
   "execution_count": 581,
   "metadata": {},
   "outputs": [
    {
     "name": "stdout",
     "output_type": "stream",
     "text": "(1365, 9)\n"
    },
    {
     "data": {
      "text/html": "<div>\n<style scoped>\n    .dataframe tbody tr th:only-of-type {\n        vertical-align: middle;\n    }\n\n    .dataframe tbody tr th {\n        vertical-align: top;\n    }\n\n    .dataframe thead th {\n        text-align: right;\n    }\n</style>\n<table border=\"1\" class=\"dataframe\">\n  <thead>\n    <tr style=\"text-align: right;\">\n      <th></th>\n      <th>Host Country</th>\n      <th>Year</th>\n      <th>Region</th>\n      <th>Athlete</th>\n      <th>Sport</th>\n      <th>Medal_Gold</th>\n      <th>Medal_Silver</th>\n      <th>Medal_Bronze</th>\n      <th>Medals</th>\n    </tr>\n  </thead>\n  <tbody>\n    <tr>\n      <th>0</th>\n      <td>ESP</td>\n      <td>1992</td>\n      <td>Kuwait</td>\n      <td>32</td>\n      <td>7</td>\n      <td>0</td>\n      <td>0</td>\n      <td>0</td>\n      <td>0</td>\n    </tr>\n    <tr>\n      <th>1</th>\n      <td>ESP</td>\n      <td>1992</td>\n      <td>Niger</td>\n      <td>3</td>\n      <td>1</td>\n      <td>0</td>\n      <td>0</td>\n      <td>0</td>\n      <td>0</td>\n    </tr>\n    <tr>\n      <th>2</th>\n      <td>ESP</td>\n      <td>1992</td>\n      <td>Nigeria</td>\n      <td>55</td>\n      <td>8</td>\n      <td>0</td>\n      <td>7</td>\n      <td>4</td>\n      <td>11</td>\n    </tr>\n    <tr>\n      <th>3</th>\n      <td>ESP</td>\n      <td>1992</td>\n      <td>North Korea</td>\n      <td>64</td>\n      <td>12</td>\n      <td>4</td>\n      <td>0</td>\n      <td>6</td>\n      <td>10</td>\n    </tr>\n    <tr>\n      <th>4</th>\n      <td>ESP</td>\n      <td>1992</td>\n      <td>Norway</td>\n      <td>83</td>\n      <td>17</td>\n      <td>2</td>\n      <td>20</td>\n      <td>1</td>\n      <td>23</td>\n    </tr>\n  </tbody>\n</table>\n</div>",
      "text/plain": "  Host Country  Year       Region  Athlete  Sport  Medal_Gold  Medal_Silver  \\\n0          ESP  1992       Kuwait       32      7           0             0   \n1          ESP  1992        Niger        3      1           0             0   \n2          ESP  1992      Nigeria       55      8           0             7   \n3          ESP  1992  North Korea       64     12           4             0   \n4          ESP  1992       Norway       83     17           2            20   \n\n   Medal_Bronze  Medals  \n0             0       0  \n1             0       0  \n2             4      11  \n3             6      10  \n4             1      23  "
     },
     "execution_count": 581,
     "metadata": {},
     "output_type": "execute_result"
    }
   ],
   "source": [
    "df5 = df5.loc[df5[\"Year\"]>=1990].sort_values(by=[\"Year\"]).reset_index(drop=True)\n",
    "\n",
    "print(df5.shape)\n",
    "\n",
    "df5.head()"
   ]
  },
  {
   "cell_type": "markdown",
   "metadata": {},
   "source": [
    "**Exportación de CSV**"
   ]
  },
  {
   "cell_type": "code",
   "execution_count": 582,
   "metadata": {},
   "outputs": [],
   "source": [
    "df5.to_csv(\"Csv4.csv\")"
   ]
  },
  {
   "cell_type": "code",
   "execution_count": 583,
   "metadata": {},
   "outputs": [],
   "source": [
    "df5 = df5.loc[df5[\"Year\"]==2016].sort_values(by=[\"Year\"]).reset_index(drop=True)"
   ]
  },
  {
   "cell_type": "code",
   "execution_count": 584,
   "metadata": {},
   "outputs": [
    {
     "data": {
      "text/html": "<div>\n<style scoped>\n    .dataframe tbody tr th:only-of-type {\n        vertical-align: middle;\n    }\n\n    .dataframe tbody tr th {\n        vertical-align: top;\n    }\n\n    .dataframe thead th {\n        text-align: right;\n    }\n</style>\n<table border=\"1\" class=\"dataframe\">\n  <thead>\n    <tr style=\"text-align: right;\">\n      <th></th>\n      <th>Host Country</th>\n      <th>Year</th>\n      <th>Region</th>\n      <th>Athlete</th>\n      <th>Sport</th>\n      <th>Medals</th>\n    </tr>\n  </thead>\n  <tbody>\n    <tr>\n      <th>0</th>\n      <td>BRA</td>\n      <td>2016</td>\n      <td>Oman</td>\n      <td>4</td>\n      <td>2</td>\n      <td>0</td>\n    </tr>\n    <tr>\n      <th>1</th>\n      <td>BRA</td>\n      <td>2016</td>\n      <td>Albania</td>\n      <td>6</td>\n      <td>3</td>\n      <td>0</td>\n    </tr>\n    <tr>\n      <th>2</th>\n      <td>BRA</td>\n      <td>2016</td>\n      <td>Algeria</td>\n      <td>64</td>\n      <td>13</td>\n      <td>2</td>\n    </tr>\n    <tr>\n      <th>3</th>\n      <td>BRA</td>\n      <td>2016</td>\n      <td>Andorra</td>\n      <td>4</td>\n      <td>4</td>\n      <td>0</td>\n    </tr>\n    <tr>\n      <th>4</th>\n      <td>BRA</td>\n      <td>2016</td>\n      <td>Angola</td>\n      <td>26</td>\n      <td>7</td>\n      <td>0</td>\n    </tr>\n    <tr>\n      <th>...</th>\n      <td>...</td>\n      <td>...</td>\n      <td>...</td>\n      <td>...</td>\n      <td>...</td>\n      <td>...</td>\n    </tr>\n    <tr>\n      <th>198</th>\n      <td>BRA</td>\n      <td>2016</td>\n      <td>Somalia</td>\n      <td>2</td>\n      <td>1</td>\n      <td>0</td>\n    </tr>\n    <tr>\n      <th>199</th>\n      <td>BRA</td>\n      <td>2016</td>\n      <td>Turkey</td>\n      <td>100</td>\n      <td>21</td>\n      <td>8</td>\n    </tr>\n    <tr>\n      <th>200</th>\n      <td>BRA</td>\n      <td>2016</td>\n      <td>Turkmenistan</td>\n      <td>9</td>\n      <td>5</td>\n      <td>0</td>\n    </tr>\n    <tr>\n      <th>201</th>\n      <td>BRA</td>\n      <td>2016</td>\n      <td>Swaziland</td>\n      <td>2</td>\n      <td>1</td>\n      <td>0</td>\n    </tr>\n    <tr>\n      <th>202</th>\n      <td>BRA</td>\n      <td>2016</td>\n      <td>Solomon Islands</td>\n      <td>3</td>\n      <td>2</td>\n      <td>0</td>\n    </tr>\n  </tbody>\n</table>\n<p>203 rows × 6 columns</p>\n</div>",
      "text/plain": "    Host Country  Year           Region  Athlete  Sport  Medals\n0            BRA  2016             Oman        4      2       0\n1            BRA  2016          Albania        6      3       0\n2            BRA  2016          Algeria       64     13       2\n3            BRA  2016          Andorra        4      4       0\n4            BRA  2016           Angola       26      7       0\n..           ...   ...              ...      ...    ...     ...\n198          BRA  2016          Somalia        2      1       0\n199          BRA  2016           Turkey      100     21       8\n200          BRA  2016     Turkmenistan        9      5       0\n201          BRA  2016        Swaziland        2      1       0\n202          BRA  2016  Solomon Islands        3      2       0\n\n[203 rows x 6 columns]"
     },
     "execution_count": 584,
     "metadata": {},
     "output_type": "execute_result"
    }
   ],
   "source": [
    "df6 = df5[[\"Host Country\", \"Year\", \"Region\", \"Athlete\", \"Sport\",\"Medals\"]]\n",
    "\n",
    "df6"
   ]
  }
 ]
}