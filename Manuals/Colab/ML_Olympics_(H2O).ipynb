{
  "nbformat": 4,
  "nbformat_minor": 0,
  "metadata": {
    "colab": {
      "name": "ML - Olympics (H2O).ipynb",
      "provenance": [],
      "collapsed_sections": [],
      "toc_visible": true
    },
    "kernelspec": {
      "name": "python3",
      "display_name": "Python 3"
    },
    "accelerator": "TPU"
  },
  "cells": [
    {
      "cell_type": "markdown",
      "metadata": {
        "id": "0hfi2QEG4nbn",
        "colab_type": "text"
      },
      "source": [
        "**Instalaciones necesarias para Google Colab**"
      ]
    },
    {
      "cell_type": "code",
      "metadata": {
        "id": "j9uS-mtgHpq9",
        "colab_type": "code",
        "colab": {
          "base_uri": "https://localhost:8080/",
          "height": 188
        },
        "outputId": "b1d1c2a7-e82e-439b-f68d-42edf5b2927b"
      },
      "source": [
        "!pip3 install h2o"
      ],
      "execution_count": 127,
      "outputs": [
        {
          "output_type": "stream",
          "text": [
            "Requirement already satisfied: h2o in /usr/local/lib/python3.6/dist-packages (3.28.0.3)\n",
            "Requirement already satisfied: requests in /usr/local/lib/python3.6/dist-packages (from h2o) (2.21.0)\n",
            "Requirement already satisfied: colorama>=0.3.8 in /usr/local/lib/python3.6/dist-packages (from h2o) (0.4.3)\n",
            "Requirement already satisfied: tabulate in /usr/local/lib/python3.6/dist-packages (from h2o) (0.8.6)\n",
            "Requirement already satisfied: future in /usr/local/lib/python3.6/dist-packages (from h2o) (0.16.0)\n",
            "Requirement already satisfied: idna<2.9,>=2.5 in /usr/local/lib/python3.6/dist-packages (from requests->h2o) (2.8)\n",
            "Requirement already satisfied: urllib3<1.25,>=1.21.1 in /usr/local/lib/python3.6/dist-packages (from requests->h2o) (1.24.3)\n",
            "Requirement already satisfied: certifi>=2017.4.17 in /usr/local/lib/python3.6/dist-packages (from requests->h2o) (2019.11.28)\n",
            "Requirement already satisfied: chardet<3.1.0,>=3.0.2 in /usr/local/lib/python3.6/dist-packages (from requests->h2o) (3.0.4)\n"
          ],
          "name": "stdout"
        }
      ]
    },
    {
      "cell_type": "markdown",
      "metadata": {
        "id": "Hki4DUenHfVK",
        "colab_type": "text"
      },
      "source": [
        "**Importación de librerías**"
      ]
    },
    {
      "cell_type": "code",
      "metadata": {
        "id": "xr6JQZNQ4qUA",
        "colab_type": "code",
        "colab": {}
      },
      "source": [
        "import pandas as pd\n",
        "\n",
        "from google.colab import files"
      ],
      "execution_count": 0,
      "outputs": []
    },
    {
      "cell_type": "code",
      "metadata": {
        "id": "aD81gdX9isiK",
        "colab_type": "code",
        "colab": {}
      },
      "source": [
        "from h2o.automl import H2OAutoML, get_leaderboard\n",
        "\n",
        "from h2o.estimators import H2ORandomForestEstimator\n",
        "\n",
        "from h2o.estimators.glm import H2OGeneralizedLinearEstimator\n",
        "\n",
        "from h2o.estimators.gbm import H2OGradientBoostingEstimator"
      ],
      "execution_count": 0,
      "outputs": []
    },
    {
      "cell_type": "markdown",
      "metadata": {
        "id": "G6Rlh5s54tPs",
        "colab_type": "text"
      },
      "source": [
        "**Inicio H2O**"
      ]
    },
    {
      "cell_type": "code",
      "metadata": {
        "id": "sYzI4_5UOWUa",
        "colab_type": "code",
        "outputId": "b4e43913-e607-4e52-8878-66de6f16c76e",
        "colab": {
          "base_uri": "https://localhost:8080/",
          "height": 484
        }
      },
      "source": [
        "import h2o\n",
        "h2o.init(nthreads = -1, max_mem_size = 8)"
      ],
      "execution_count": 130,
      "outputs": [
        {
          "output_type": "stream",
          "text": [
            "Checking whether there is an H2O instance running at http://localhost:54321 . connected.\n"
          ],
          "name": "stdout"
        },
        {
          "output_type": "display_data",
          "data": {
            "text/html": [
              "<div style=\"overflow:auto\"><table style=\"width:50%\"><tr><td>H2O cluster uptime:</td>\n",
              "<td>2 hours 7 mins</td></tr>\n",
              "<tr><td>H2O cluster timezone:</td>\n",
              "<td>Etc/UTC</td></tr>\n",
              "<tr><td>H2O data parsing timezone:</td>\n",
              "<td>UTC</td></tr>\n",
              "<tr><td>H2O cluster version:</td>\n",
              "<td>3.28.0.3</td></tr>\n",
              "<tr><td>H2O cluster version age:</td>\n",
              "<td>1 month and 5 days </td></tr>\n",
              "<tr><td>H2O cluster name:</td>\n",
              "<td>H2O_from_python_unknownUser_xvztxb</td></tr>\n",
              "<tr><td>H2O cluster total nodes:</td>\n",
              "<td>1</td></tr>\n",
              "<tr><td>H2O cluster free memory:</td>\n",
              "<td>7.703 Gb</td></tr>\n",
              "<tr><td>H2O cluster total cores:</td>\n",
              "<td>2</td></tr>\n",
              "<tr><td>H2O cluster allowed cores:</td>\n",
              "<td>2</td></tr>\n",
              "<tr><td>H2O cluster status:</td>\n",
              "<td>locked, healthy</td></tr>\n",
              "<tr><td>H2O connection url:</td>\n",
              "<td>http://localhost:54321</td></tr>\n",
              "<tr><td>H2O connection proxy:</td>\n",
              "<td>{'http': None, 'https': None}</td></tr>\n",
              "<tr><td>H2O internal security:</td>\n",
              "<td>False</td></tr>\n",
              "<tr><td>H2O API Extensions:</td>\n",
              "<td>Amazon S3, XGBoost, Algos, AutoML, Core V3, TargetEncoder, Core V4</td></tr>\n",
              "<tr><td>Python version:</td>\n",
              "<td>3.6.9 final</td></tr></table></div>"
            ],
            "text/plain": [
              "--------------------------  ------------------------------------------------------------------\n",
              "H2O cluster uptime:         2 hours 7 mins\n",
              "H2O cluster timezone:       Etc/UTC\n",
              "H2O data parsing timezone:  UTC\n",
              "H2O cluster version:        3.28.0.3\n",
              "H2O cluster version age:    1 month and 5 days\n",
              "H2O cluster name:           H2O_from_python_unknownUser_xvztxb\n",
              "H2O cluster total nodes:    1\n",
              "H2O cluster free memory:    7.703 Gb\n",
              "H2O cluster total cores:    2\n",
              "H2O cluster allowed cores:  2\n",
              "H2O cluster status:         locked, healthy\n",
              "H2O connection url:         http://localhost:54321\n",
              "H2O connection proxy:       {'http': None, 'https': None}\n",
              "H2O internal security:      False\n",
              "H2O API Extensions:         Amazon S3, XGBoost, Algos, AutoML, Core V3, TargetEncoder, Core V4\n",
              "Python version:             3.6.9 final\n",
              "--------------------------  ------------------------------------------------------------------"
            ]
          },
          "metadata": {
            "tags": []
          }
        }
      ]
    },
    {
      "cell_type": "markdown",
      "metadata": {
        "id": "HSQYUWVW4xCh",
        "colab_type": "text"
      },
      "source": [
        "**Importación y pequeña preparación de Pandas**"
      ]
    },
    {
      "cell_type": "code",
      "metadata": {
        "id": "8rd5uiSjMTvB",
        "colab_type": "code",
        "colab": {}
      },
      "source": [
        "df = pd.read_csv(\"/content/drive/My Drive/Csv4.csv\").reset_index(drop=True)"
      ],
      "execution_count": 0,
      "outputs": []
    },
    {
      "cell_type": "code",
      "metadata": {
        "id": "zqBmhJwqv72I",
        "colab_type": "code",
        "colab": {}
      },
      "source": [
        "del df[\"Unnamed: 0\"]\n",
        "df.drop(columns=[\"Medal_Gold\",\"Medal_Silver\",\"Medal_Bronze\"], axis=1, inplace=True)"
      ],
      "execution_count": 0,
      "outputs": []
    },
    {
      "cell_type": "code",
      "metadata": {
        "id": "rJO5WslswAaU",
        "colab_type": "code",
        "outputId": "31af2422-15f2-40ee-dce9-4fb34d8bec5a",
        "colab": {
          "base_uri": "https://localhost:8080/",
          "height": 225
        }
      },
      "source": [
        "print(df.shape)\n",
        "\n",
        "df.head()"
      ],
      "execution_count": 170,
      "outputs": [
        {
          "output_type": "stream",
          "text": [
            "(1365, 6)\n"
          ],
          "name": "stdout"
        },
        {
          "output_type": "execute_result",
          "data": {
            "text/html": [
              "<div>\n",
              "<style scoped>\n",
              "    .dataframe tbody tr th:only-of-type {\n",
              "        vertical-align: middle;\n",
              "    }\n",
              "\n",
              "    .dataframe tbody tr th {\n",
              "        vertical-align: top;\n",
              "    }\n",
              "\n",
              "    .dataframe thead th {\n",
              "        text-align: right;\n",
              "    }\n",
              "</style>\n",
              "<table border=\"1\" class=\"dataframe\">\n",
              "  <thead>\n",
              "    <tr style=\"text-align: right;\">\n",
              "      <th></th>\n",
              "      <th>Host Country</th>\n",
              "      <th>Year</th>\n",
              "      <th>Region</th>\n",
              "      <th>Athlete</th>\n",
              "      <th>Sport</th>\n",
              "      <th>Medals</th>\n",
              "    </tr>\n",
              "  </thead>\n",
              "  <tbody>\n",
              "    <tr>\n",
              "      <th>0</th>\n",
              "      <td>ESP</td>\n",
              "      <td>1992</td>\n",
              "      <td>Kuwait</td>\n",
              "      <td>32</td>\n",
              "      <td>7</td>\n",
              "      <td>0</td>\n",
              "    </tr>\n",
              "    <tr>\n",
              "      <th>1</th>\n",
              "      <td>ESP</td>\n",
              "      <td>1992</td>\n",
              "      <td>Niger</td>\n",
              "      <td>3</td>\n",
              "      <td>1</td>\n",
              "      <td>0</td>\n",
              "    </tr>\n",
              "    <tr>\n",
              "      <th>2</th>\n",
              "      <td>ESP</td>\n",
              "      <td>1992</td>\n",
              "      <td>Nigeria</td>\n",
              "      <td>55</td>\n",
              "      <td>8</td>\n",
              "      <td>11</td>\n",
              "    </tr>\n",
              "    <tr>\n",
              "      <th>3</th>\n",
              "      <td>ESP</td>\n",
              "      <td>1992</td>\n",
              "      <td>North Korea</td>\n",
              "      <td>64</td>\n",
              "      <td>12</td>\n",
              "      <td>10</td>\n",
              "    </tr>\n",
              "    <tr>\n",
              "      <th>4</th>\n",
              "      <td>ESP</td>\n",
              "      <td>1992</td>\n",
              "      <td>Norway</td>\n",
              "      <td>83</td>\n",
              "      <td>17</td>\n",
              "      <td>23</td>\n",
              "    </tr>\n",
              "  </tbody>\n",
              "</table>\n",
              "</div>"
            ],
            "text/plain": [
              "  Host Country  Year       Region  Athlete  Sport  Medals\n",
              "0          ESP  1992       Kuwait       32      7       0\n",
              "1          ESP  1992        Niger        3      1       0\n",
              "2          ESP  1992      Nigeria       55      8      11\n",
              "3          ESP  1992  North Korea       64     12      10\n",
              "4          ESP  1992       Norway       83     17      23"
            ]
          },
          "metadata": {
            "tags": []
          },
          "execution_count": 170
        }
      ]
    },
    {
      "cell_type": "markdown",
      "metadata": {
        "id": "FQBhUsFE44Ge",
        "colab_type": "text"
      },
      "source": [
        "**Preparación de la maquinaria de Machine Learning**"
      ]
    },
    {
      "cell_type": "code",
      "metadata": {
        "id": "cYf3FhCIOOkU",
        "colab_type": "code",
        "outputId": "24905775-2e74-4a1d-8855-af6efdec9d16",
        "colab": {
          "base_uri": "https://localhost:8080/",
          "height": 36
        }
      },
      "source": [
        "data = h2o.H2OFrame(df)"
      ],
      "execution_count": 171,
      "outputs": [
        {
          "output_type": "stream",
          "text": [
            "Parse progress: |█████████████████████████████████████████████████████████| 100%\n"
          ],
          "name": "stdout"
        }
      ]
    },
    {
      "cell_type": "code",
      "metadata": {
        "id": "2WB4TzexPKJ_",
        "colab_type": "code",
        "colab": {}
      },
      "source": [
        "splits = data.split_frame(ratios=[0.7, 0.15], seed=1)  "
      ],
      "execution_count": 0,
      "outputs": []
    },
    {
      "cell_type": "code",
      "metadata": {
        "id": "2FrddPvePLh0",
        "colab_type": "code",
        "colab": {}
      },
      "source": [
        "train = splits[0]\n",
        "valid = splits[1]\n",
        "test = splits[2]"
      ],
      "execution_count": 0,
      "outputs": []
    },
    {
      "cell_type": "code",
      "metadata": {
        "id": "A6IiiDa8WYY7",
        "colab_type": "code",
        "colab": {}
      },
      "source": [
        "y = 'Medals'\n",
        "x = list(data.columns)\n",
        "\n",
        "x.remove(\"Medals\")"
      ],
      "execution_count": 0,
      "outputs": []
    },
    {
      "cell_type": "markdown",
      "metadata": {
        "id": "pwywUgwRgvhU",
        "colab_type": "text"
      },
      "source": [
        "**AutoMachine Learning**"
      ]
    },
    {
      "cell_type": "code",
      "metadata": {
        "id": "2uPWo5MhU3G_",
        "colab_type": "code",
        "outputId": "334e6ae6-48b4-45d0-db5b-bf5166b4bd9b",
        "colab": {
          "base_uri": "https://localhost:8080/",
          "height": 36
        }
      },
      "source": [
        "aml = H2OAutoML(max_models = 20, nfolds=10)\n",
        "aml.train(x = x, y = y, training_frame = data)"
      ],
      "execution_count": 138,
      "outputs": [
        {
          "output_type": "stream",
          "text": [
            "AutoML progress: |████████████████████████████████████████████████████████| 100%\n"
          ],
          "name": "stdout"
        }
      ]
    },
    {
      "cell_type": "code",
      "metadata": {
        "id": "_HKI27XxJcpQ",
        "colab_type": "code",
        "colab": {
          "base_uri": "https://localhost:8080/",
          "height": 62
        },
        "outputId": "7971f57e-468f-4487-c7f8-715adefc2587"
      },
      "source": [
        "aml.leaderboard.head(1)"
      ],
      "execution_count": 139,
      "outputs": [
        {
          "output_type": "display_data",
          "data": {
            "text/html": [
              "<table>\n",
              "<thead>\n",
              "<tr><th>model_id                                           </th><th style=\"text-align: right;\">  mean_residual_deviance</th><th style=\"text-align: right;\">   rmse</th><th style=\"text-align: right;\">    mse</th><th style=\"text-align: right;\">    mae</th><th style=\"text-align: right;\">  rmsle</th></tr>\n",
              "</thead>\n",
              "<tbody>\n",
              "<tr><td>DeepLearning_grid__1_AutoML_20200311_171021_model_1</td><td style=\"text-align: right;\">                 63.1684</td><td style=\"text-align: right;\">7.94785</td><td style=\"text-align: right;\">63.1684</td><td style=\"text-align: right;\">3.60037</td><td style=\"text-align: right;\">    nan</td></tr>\n",
              "</tbody>\n",
              "</table>"
            ]
          },
          "metadata": {
            "tags": []
          }
        },
        {
          "output_type": "execute_result",
          "data": {
            "text/plain": [
              ""
            ]
          },
          "metadata": {
            "tags": []
          },
          "execution_count": 139
        }
      ]
    },
    {
      "cell_type": "markdown",
      "metadata": {
        "id": "zbyxVUzPgyLw",
        "colab_type": "text"
      },
      "source": [
        "**Random Forest**"
      ]
    },
    {
      "cell_type": "code",
      "metadata": {
        "id": "DJcY3C4Og1kh",
        "colab_type": "code",
        "outputId": "1e364bea-9dcd-4760-89c4-20a598a50c43",
        "colab": {
          "base_uri": "https://localhost:8080/",
          "height": 36
        }
      },
      "source": [
        "model = H2ORandomForestEstimator(ntrees=200, max_depth=20, nfolds=10)\n",
        "model.train(x = x, y = y, training_frame = train,validation_frame=valid)"
      ],
      "execution_count": 140,
      "outputs": [
        {
          "output_type": "stream",
          "text": [
            "drf Model Build progress: |███████████████████████████████████████████████| 100%\n"
          ],
          "name": "stdout"
        }
      ]
    },
    {
      "cell_type": "code",
      "metadata": {
        "id": "3ygbhRqRliAz",
        "colab_type": "code",
        "outputId": "c88bc4b1-6967-43ce-9421-ea1f6469ca19",
        "colab": {
          "base_uri": "https://localhost:8080/",
          "height": 227
        }
      },
      "source": [
        "performance = model.model_performance(test_data=test)\n",
        "print(performance)\n",
        "model.r2()"
      ],
      "execution_count": 141,
      "outputs": [
        {
          "output_type": "stream",
          "text": [
            "\n",
            "ModelMetricsRegression: drf\n",
            "** Reported on test data. **\n",
            "\n",
            "MSE: 133.4332616997603\n",
            "RMSE: 11.551331598554354\n",
            "MAE: 4.447496464786203\n",
            "RMSLE: 0.7187852638757543\n",
            "Mean Residual Deviance: 133.4332616997603\n",
            "\n"
          ],
          "name": "stdout"
        },
        {
          "output_type": "execute_result",
          "data": {
            "text/plain": [
              "0.8662591950147571"
            ]
          },
          "metadata": {
            "tags": []
          },
          "execution_count": 141
        }
      ]
    },
    {
      "cell_type": "markdown",
      "metadata": {
        "id": "1BoUP3v0Iu1S",
        "colab_type": "text"
      },
      "source": [
        "**Gradient Boosting Machine**"
      ]
    },
    {
      "cell_type": "code",
      "metadata": {
        "id": "WNhW0mBxIsGx",
        "colab_type": "code",
        "colab": {
          "base_uri": "https://localhost:8080/",
          "height": 36
        },
        "outputId": "fee89c46-d5a7-473e-ba02-78cc23bcf26a"
      },
      "source": [
        "model = H2OGradientBoostingEstimator(distribution = \"poisson\", categorical_encoding = \"auto\")\n",
        "model.train(x = x, y = y, training_frame = train,validation_frame=valid)"
      ],
      "execution_count": 142,
      "outputs": [
        {
          "output_type": "stream",
          "text": [
            "gbm Model Build progress: |███████████████████████████████████████████████| 100%\n"
          ],
          "name": "stdout"
        }
      ]
    },
    {
      "cell_type": "code",
      "metadata": {
        "id": "_D3M63RbJPf5",
        "colab_type": "code",
        "colab": {
          "base_uri": "https://localhost:8080/",
          "height": 227
        },
        "outputId": "67b67c79-ca55-496c-d8cd-13535fedddba"
      },
      "source": [
        "performance = model.model_performance(test_data=test)\n",
        "print(performance)\n",
        "model.r2()"
      ],
      "execution_count": 143,
      "outputs": [
        {
          "output_type": "stream",
          "text": [
            "\n",
            "ModelMetricsRegression: gbm\n",
            "** Reported on test data. **\n",
            "\n",
            "MSE: 129.55432097783694\n",
            "RMSE: 11.382193153247618\n",
            "MAE: 3.771920285674336\n",
            "RMSLE: 0.49329578416113057\n",
            "Mean Residual Deviance: -52.93303127062341\n",
            "\n"
          ],
          "name": "stdout"
        },
        {
          "output_type": "execute_result",
          "data": {
            "text/plain": [
              "0.9849132360909248"
            ]
          },
          "metadata": {
            "tags": []
          },
          "execution_count": 143
        }
      ]
    },
    {
      "cell_type": "markdown",
      "metadata": {
        "id": "1oB1lUbLmsZP",
        "colab_type": "text"
      },
      "source": [
        "**Modelo de Regresión Lineal**"
      ]
    },
    {
      "cell_type": "code",
      "metadata": {
        "id": "H8rUXHgpngm1",
        "colab_type": "code",
        "outputId": "a252f635-0d03-41d3-8efd-de5e6b04a2f4",
        "colab": {
          "base_uri": "https://localhost:8080/",
          "height": 36
        }
      },
      "source": [
        "model = H2OGeneralizedLinearEstimator()\n",
        "model.train(x=x, y= y, training_frame=train, validation_frame=valid,model_id=\"glm_logistic\")"
      ],
      "execution_count": 144,
      "outputs": [
        {
          "output_type": "stream",
          "text": [
            "glm Model Build progress: |███████████████████████████████████████████████| 100%\n"
          ],
          "name": "stdout"
        }
      ]
    },
    {
      "cell_type": "code",
      "metadata": {
        "id": "91QNOgQGo92D",
        "colab_type": "code",
        "outputId": "4099fa97-12a6-4ef0-9458-7e4a9dd2128e",
        "colab": {
          "base_uri": "https://localhost:8080/",
          "height": 341
        }
      },
      "source": [
        "performance = model.model_performance(test_data=test)\n",
        "print(performance)\n",
        "model.r2()"
      ],
      "execution_count": 145,
      "outputs": [
        {
          "output_type": "stream",
          "text": [
            "\n",
            "ModelMetricsRegressionGLM: glm\n",
            "** Reported on test data. **\n",
            "\n",
            "MSE: 396.54846572329615\n",
            "RMSE: 19.913524693617052\n",
            "MAE: 10.15434942461909\n",
            "RMSLE: 1.6003723335630478\n",
            "R^2: 0.4303482664184036\n",
            "Mean Residual Deviance: 396.54846572329615\n",
            "Null degrees of freedom: 206\n",
            "Residual degrees of freedom: 204\n",
            "Null deviance: 144279.2484192329\n",
            "Residual deviance: 82085.5324047223\n",
            "AIC: 1833.8797941108348\n",
            "\n"
          ],
          "name": "stdout"
        },
        {
          "output_type": "execute_result",
          "data": {
            "text/plain": [
              "0.4030045606576991"
            ]
          },
          "metadata": {
            "tags": []
          },
          "execution_count": 145
        }
      ]
    },
    {
      "cell_type": "markdown",
      "metadata": {
        "id": "NU7Ureye_B4M",
        "colab_type": "text"
      },
      "source": [
        "**Guardado del mejor modelo encontrado (AML)**"
      ]
    },
    {
      "cell_type": "code",
      "metadata": {
        "id": "bxxjxjpAFatL",
        "colab_type": "code",
        "outputId": "a591748e-4b5f-4817-e8f2-f8c4acbe235a",
        "colab": {
          "base_uri": "https://localhost:8080/",
          "height": 36
        }
      },
      "source": [
        "h2o.save_model(aml.leader, path = \"model\")"
      ],
      "execution_count": 146,
      "outputs": [
        {
          "output_type": "execute_result",
          "data": {
            "text/plain": [
              "'/content/model/DeepLearning_grid__1_AutoML_20200311_171021_model_1'"
            ]
          },
          "metadata": {
            "tags": []
          },
          "execution_count": 146
        }
      ]
    },
    {
      "cell_type": "markdown",
      "metadata": {
        "id": "f2n5cg_m5TYB",
        "colab_type": "text"
      },
      "source": [
        "**Predicciones**"
      ]
    },
    {
      "cell_type": "code",
      "metadata": {
        "id": "VOKgDcXG0Y4Y",
        "colab_type": "code",
        "colab": {}
      },
      "source": [
        "modelNew= h2o.load_model(\"/content/drive/My Drive/StackedEnsemble_BestOfFamily_AutoML_20200310_010756\")"
      ],
      "execution_count": 0,
      "outputs": []
    },
    {
      "cell_type": "code",
      "metadata": {
        "id": "7wKWEC10hmib",
        "colab_type": "code",
        "outputId": "ee6b0009-5cce-4047-98af-3f99bb06da98",
        "colab": {
          "base_uri": "https://localhost:8080/",
          "height": 124
        }
      },
      "source": [
        "pred = modelNew.predict(test)\n",
        "pred[pred < 0] = 0\n",
        "pred = pred.round()\n",
        "pred.head(3)"
      ],
      "execution_count": 148,
      "outputs": [
        {
          "output_type": "stream",
          "text": [
            "stackedensemble prediction progress: |████████████████████████████████████| 100%\n"
          ],
          "name": "stdout"
        },
        {
          "output_type": "display_data",
          "data": {
            "text/html": [
              "<table>\n",
              "<thead>\n",
              "<tr><th style=\"text-align: right;\">  predict</th></tr>\n",
              "</thead>\n",
              "<tbody>\n",
              "<tr><td style=\"text-align: right;\">        0</td></tr>\n",
              "<tr><td style=\"text-align: right;\">        0</td></tr>\n",
              "<tr><td style=\"text-align: right;\">      179</td></tr>\n",
              "</tbody>\n",
              "</table>"
            ]
          },
          "metadata": {
            "tags": []
          }
        },
        {
          "output_type": "execute_result",
          "data": {
            "text/plain": [
              ""
            ]
          },
          "metadata": {
            "tags": []
          },
          "execution_count": 148
        }
      ]
    },
    {
      "cell_type": "code",
      "metadata": {
        "id": "zNiLC4Ps2j4p",
        "colab_type": "code",
        "colab": {}
      },
      "source": [
        "predDef = pred.as_data_frame()\n"
      ],
      "execution_count": 0,
      "outputs": []
    },
    {
      "cell_type": "markdown",
      "metadata": {
        "id": "F_qdjFtntIPx",
        "colab_type": "text"
      },
      "source": [
        "**Preparación de los Juegos Olímpicos de Tokio**"
      ]
    },
    {
      "cell_type": "markdown",
      "metadata": {
        "id": "f1SaGiWCYJCC",
        "colab_type": "text"
      },
      "source": [
        "Se toman como referencia, los datos de los anteriores JJOO"
      ]
    },
    {
      "cell_type": "code",
      "metadata": {
        "id": "C_cZKQ_OtGih",
        "colab_type": "code",
        "outputId": "9914a9d5-962e-450f-8df5-bae5a255c37e",
        "colab": {
          "base_uri": "https://localhost:8080/",
          "height": 206
        }
      },
      "source": [
        "df.head()"
      ],
      "execution_count": 172,
      "outputs": [
        {
          "output_type": "execute_result",
          "data": {
            "text/html": [
              "<div>\n",
              "<style scoped>\n",
              "    .dataframe tbody tr th:only-of-type {\n",
              "        vertical-align: middle;\n",
              "    }\n",
              "\n",
              "    .dataframe tbody tr th {\n",
              "        vertical-align: top;\n",
              "    }\n",
              "\n",
              "    .dataframe thead th {\n",
              "        text-align: right;\n",
              "    }\n",
              "</style>\n",
              "<table border=\"1\" class=\"dataframe\">\n",
              "  <thead>\n",
              "    <tr style=\"text-align: right;\">\n",
              "      <th></th>\n",
              "      <th>Host Country</th>\n",
              "      <th>Year</th>\n",
              "      <th>Region</th>\n",
              "      <th>Athlete</th>\n",
              "      <th>Sport</th>\n",
              "      <th>Medals</th>\n",
              "    </tr>\n",
              "  </thead>\n",
              "  <tbody>\n",
              "    <tr>\n",
              "      <th>0</th>\n",
              "      <td>ESP</td>\n",
              "      <td>1992</td>\n",
              "      <td>Kuwait</td>\n",
              "      <td>32</td>\n",
              "      <td>7</td>\n",
              "      <td>0</td>\n",
              "    </tr>\n",
              "    <tr>\n",
              "      <th>1</th>\n",
              "      <td>ESP</td>\n",
              "      <td>1992</td>\n",
              "      <td>Niger</td>\n",
              "      <td>3</td>\n",
              "      <td>1</td>\n",
              "      <td>0</td>\n",
              "    </tr>\n",
              "    <tr>\n",
              "      <th>2</th>\n",
              "      <td>ESP</td>\n",
              "      <td>1992</td>\n",
              "      <td>Nigeria</td>\n",
              "      <td>55</td>\n",
              "      <td>8</td>\n",
              "      <td>11</td>\n",
              "    </tr>\n",
              "    <tr>\n",
              "      <th>3</th>\n",
              "      <td>ESP</td>\n",
              "      <td>1992</td>\n",
              "      <td>North Korea</td>\n",
              "      <td>64</td>\n",
              "      <td>12</td>\n",
              "      <td>10</td>\n",
              "    </tr>\n",
              "    <tr>\n",
              "      <th>4</th>\n",
              "      <td>ESP</td>\n",
              "      <td>1992</td>\n",
              "      <td>Norway</td>\n",
              "      <td>83</td>\n",
              "      <td>17</td>\n",
              "      <td>23</td>\n",
              "    </tr>\n",
              "  </tbody>\n",
              "</table>\n",
              "</div>"
            ],
            "text/plain": [
              "  Host Country  Year       Region  Athlete  Sport  Medals\n",
              "0          ESP  1992       Kuwait       32      7       0\n",
              "1          ESP  1992        Niger        3      1       0\n",
              "2          ESP  1992      Nigeria       55      8      11\n",
              "3          ESP  1992  North Korea       64     12      10\n",
              "4          ESP  1992       Norway       83     17      23"
            ]
          },
          "metadata": {
            "tags": []
          },
          "execution_count": 172
        }
      ]
    },
    {
      "cell_type": "code",
      "metadata": {
        "id": "qaI5vl7nt4yF",
        "colab_type": "code",
        "colab": {}
      },
      "source": [
        "df2 = df.loc[df[\"Year\"]==2016].sort_values(by=[\"Year\"]).reset_index(drop=True)\n",
        "df2[\"Year\"] = df2[\"Year\"].replace({2016: 2020})"
      ],
      "execution_count": 0,
      "outputs": []
    },
    {
      "cell_type": "code",
      "metadata": {
        "id": "uzKM0JdnuzwK",
        "colab_type": "code",
        "outputId": "49c0dfd1-4fb8-4a32-bb1e-7b965f63f902",
        "colab": {
          "base_uri": "https://localhost:8080/",
          "height": 206
        }
      },
      "source": [
        "df2.head()"
      ],
      "execution_count": 174,
      "outputs": [
        {
          "output_type": "execute_result",
          "data": {
            "text/html": [
              "<div>\n",
              "<style scoped>\n",
              "    .dataframe tbody tr th:only-of-type {\n",
              "        vertical-align: middle;\n",
              "    }\n",
              "\n",
              "    .dataframe tbody tr th {\n",
              "        vertical-align: top;\n",
              "    }\n",
              "\n",
              "    .dataframe thead th {\n",
              "        text-align: right;\n",
              "    }\n",
              "</style>\n",
              "<table border=\"1\" class=\"dataframe\">\n",
              "  <thead>\n",
              "    <tr style=\"text-align: right;\">\n",
              "      <th></th>\n",
              "      <th>Host Country</th>\n",
              "      <th>Year</th>\n",
              "      <th>Region</th>\n",
              "      <th>Athlete</th>\n",
              "      <th>Sport</th>\n",
              "      <th>Medals</th>\n",
              "    </tr>\n",
              "  </thead>\n",
              "  <tbody>\n",
              "    <tr>\n",
              "      <th>0</th>\n",
              "      <td>BRA</td>\n",
              "      <td>2020</td>\n",
              "      <td>Oman</td>\n",
              "      <td>4</td>\n",
              "      <td>2</td>\n",
              "      <td>0</td>\n",
              "    </tr>\n",
              "    <tr>\n",
              "      <th>1</th>\n",
              "      <td>BRA</td>\n",
              "      <td>2020</td>\n",
              "      <td>Albania</td>\n",
              "      <td>6</td>\n",
              "      <td>3</td>\n",
              "      <td>0</td>\n",
              "    </tr>\n",
              "    <tr>\n",
              "      <th>2</th>\n",
              "      <td>BRA</td>\n",
              "      <td>2020</td>\n",
              "      <td>Algeria</td>\n",
              "      <td>64</td>\n",
              "      <td>13</td>\n",
              "      <td>2</td>\n",
              "    </tr>\n",
              "    <tr>\n",
              "      <th>3</th>\n",
              "      <td>BRA</td>\n",
              "      <td>2020</td>\n",
              "      <td>Andorra</td>\n",
              "      <td>4</td>\n",
              "      <td>4</td>\n",
              "      <td>0</td>\n",
              "    </tr>\n",
              "    <tr>\n",
              "      <th>4</th>\n",
              "      <td>BRA</td>\n",
              "      <td>2020</td>\n",
              "      <td>Angola</td>\n",
              "      <td>26</td>\n",
              "      <td>7</td>\n",
              "      <td>0</td>\n",
              "    </tr>\n",
              "  </tbody>\n",
              "</table>\n",
              "</div>"
            ],
            "text/plain": [
              "  Host Country  Year   Region  Athlete  Sport  Medals\n",
              "0          BRA  2020     Oman        4      2       0\n",
              "1          BRA  2020  Albania        6      3       0\n",
              "2          BRA  2020  Algeria       64     13       2\n",
              "3          BRA  2020  Andorra        4      4       0\n",
              "4          BRA  2020   Angola       26      7       0"
            ]
          },
          "metadata": {
            "tags": []
          },
          "execution_count": 174
        }
      ]
    },
    {
      "cell_type": "markdown",
      "metadata": {
        "id": "dUq-QVmSYS5e",
        "colab_type": "text"
      },
      "source": [
        "Predicciones en los Juegos Olímpicos 2020"
      ]
    },
    {
      "cell_type": "code",
      "metadata": {
        "id": "bspiENks3dNG",
        "colab_type": "code",
        "outputId": "e3edf07c-017d-42ce-b5e8-58fbf5709130",
        "colab": {
          "base_uri": "https://localhost:8080/",
          "height": 36
        }
      },
      "source": [
        "data2 = h2o.H2OFrame(df2)"
      ],
      "execution_count": 175,
      "outputs": [
        {
          "output_type": "stream",
          "text": [
            "Parse progress: |█████████████████████████████████████████████████████████| 100%\n"
          ],
          "name": "stdout"
        }
      ]
    },
    {
      "cell_type": "code",
      "metadata": {
        "id": "rDMsrP9-2SFk",
        "colab_type": "code",
        "outputId": "ba343290-228f-469f-9148-5acd454c6b72",
        "colab": {
          "base_uri": "https://localhost:8080/",
          "height": 36
        }
      },
      "source": [
        "pred = modelNew.predict(data2)\n",
        "pred[pred < 0] = 0\n",
        "pred = pred.round()"
      ],
      "execution_count": 176,
      "outputs": [
        {
          "output_type": "stream",
          "text": [
            "stackedensemble prediction progress: |████████████████████████████████████| 100%\n"
          ],
          "name": "stdout"
        }
      ]
    },
    {
      "cell_type": "code",
      "metadata": {
        "id": "M19TkOhH3E5E",
        "colab_type": "code",
        "colab": {}
      },
      "source": [
        "pred = pred.as_data_frame()\n"
      ],
      "execution_count": 0,
      "outputs": []
    },
    {
      "cell_type": "code",
      "metadata": {
        "id": "APtaFlLk4CkB",
        "colab_type": "code",
        "colab": {}
      },
      "source": [
        "dfMain = df2.join(pred)"
      ],
      "execution_count": 0,
      "outputs": []
    },
    {
      "cell_type": "code",
      "metadata": {
        "id": "-RP2LzFS4H2h",
        "colab_type": "code",
        "outputId": "a6a7ff28-af2b-4bdc-a78d-4ffa39181ee8",
        "colab": {
          "base_uri": "https://localhost:8080/",
          "height": 363
        }
      },
      "source": [
        "dfMain[\"Host Country\"] = dfMain[\"Host Country\"].replace({\"BRA\":\"JPN\"})\n",
        "dfMain.head(10)"
      ],
      "execution_count": 181,
      "outputs": [
        {
          "output_type": "execute_result",
          "data": {
            "text/html": [
              "<div>\n",
              "<style scoped>\n",
              "    .dataframe tbody tr th:only-of-type {\n",
              "        vertical-align: middle;\n",
              "    }\n",
              "\n",
              "    .dataframe tbody tr th {\n",
              "        vertical-align: top;\n",
              "    }\n",
              "\n",
              "    .dataframe thead th {\n",
              "        text-align: right;\n",
              "    }\n",
              "</style>\n",
              "<table border=\"1\" class=\"dataframe\">\n",
              "  <thead>\n",
              "    <tr style=\"text-align: right;\">\n",
              "      <th></th>\n",
              "      <th>Host Country</th>\n",
              "      <th>Year</th>\n",
              "      <th>Region</th>\n",
              "      <th>Athlete</th>\n",
              "      <th>Sport</th>\n",
              "      <th>Medals</th>\n",
              "      <th>predict</th>\n",
              "    </tr>\n",
              "  </thead>\n",
              "  <tbody>\n",
              "    <tr>\n",
              "      <th>0</th>\n",
              "      <td>JPN</td>\n",
              "      <td>2020</td>\n",
              "      <td>Oman</td>\n",
              "      <td>4</td>\n",
              "      <td>2</td>\n",
              "      <td>0</td>\n",
              "      <td>1</td>\n",
              "    </tr>\n",
              "    <tr>\n",
              "      <th>1</th>\n",
              "      <td>JPN</td>\n",
              "      <td>2020</td>\n",
              "      <td>Albania</td>\n",
              "      <td>6</td>\n",
              "      <td>3</td>\n",
              "      <td>0</td>\n",
              "      <td>1</td>\n",
              "    </tr>\n",
              "    <tr>\n",
              "      <th>2</th>\n",
              "      <td>JPN</td>\n",
              "      <td>2020</td>\n",
              "      <td>Algeria</td>\n",
              "      <td>64</td>\n",
              "      <td>13</td>\n",
              "      <td>2</td>\n",
              "      <td>3</td>\n",
              "    </tr>\n",
              "    <tr>\n",
              "      <th>3</th>\n",
              "      <td>JPN</td>\n",
              "      <td>2020</td>\n",
              "      <td>Andorra</td>\n",
              "      <td>4</td>\n",
              "      <td>4</td>\n",
              "      <td>0</td>\n",
              "      <td>0</td>\n",
              "    </tr>\n",
              "    <tr>\n",
              "      <th>4</th>\n",
              "      <td>JPN</td>\n",
              "      <td>2020</td>\n",
              "      <td>Angola</td>\n",
              "      <td>26</td>\n",
              "      <td>7</td>\n",
              "      <td>0</td>\n",
              "      <td>0</td>\n",
              "    </tr>\n",
              "    <tr>\n",
              "      <th>5</th>\n",
              "      <td>JPN</td>\n",
              "      <td>2020</td>\n",
              "      <td>Antigua</td>\n",
              "      <td>8</td>\n",
              "      <td>2</td>\n",
              "      <td>0</td>\n",
              "      <td>1</td>\n",
              "    </tr>\n",
              "    <tr>\n",
              "      <th>6</th>\n",
              "      <td>JPN</td>\n",
              "      <td>2020</td>\n",
              "      <td>Argentina</td>\n",
              "      <td>215</td>\n",
              "      <td>26</td>\n",
              "      <td>22</td>\n",
              "      <td>29</td>\n",
              "    </tr>\n",
              "    <tr>\n",
              "      <th>7</th>\n",
              "      <td>JPN</td>\n",
              "      <td>2020</td>\n",
              "      <td>Armenia</td>\n",
              "      <td>31</td>\n",
              "      <td>8</td>\n",
              "      <td>4</td>\n",
              "      <td>3</td>\n",
              "    </tr>\n",
              "    <tr>\n",
              "      <th>8</th>\n",
              "      <td>JPN</td>\n",
              "      <td>2020</td>\n",
              "      <td>Aruba</td>\n",
              "      <td>7</td>\n",
              "      <td>4</td>\n",
              "      <td>0</td>\n",
              "      <td>0</td>\n",
              "    </tr>\n",
              "    <tr>\n",
              "      <th>9</th>\n",
              "      <td>JPN</td>\n",
              "      <td>2020</td>\n",
              "      <td>Czech Republic</td>\n",
              "      <td>104</td>\n",
              "      <td>20</td>\n",
              "      <td>15</td>\n",
              "      <td>8</td>\n",
              "    </tr>\n",
              "  </tbody>\n",
              "</table>\n",
              "</div>"
            ],
            "text/plain": [
              "  Host Country  Year          Region  Athlete  Sport  Medals  predict\n",
              "0          JPN  2020            Oman        4      2       0        1\n",
              "1          JPN  2020         Albania        6      3       0        1\n",
              "2          JPN  2020         Algeria       64     13       2        3\n",
              "3          JPN  2020         Andorra        4      4       0        0\n",
              "4          JPN  2020          Angola       26      7       0        0\n",
              "5          JPN  2020         Antigua        8      2       0        1\n",
              "6          JPN  2020       Argentina      215     26      22       29\n",
              "7          JPN  2020         Armenia       31      8       4        3\n",
              "8          JPN  2020           Aruba        7      4       0        0\n",
              "9          JPN  2020  Czech Republic      104     20      15        8"
            ]
          },
          "metadata": {
            "tags": []
          },
          "execution_count": 181
        }
      ]
    },
    {
      "cell_type": "markdown",
      "metadata": {
        "id": "fN_ODxLWVhex",
        "colab_type": "text"
      },
      "source": [
        "Exportación de resultados"
      ]
    },
    {
      "cell_type": "code",
      "metadata": {
        "id": "qkNfN1IYXaxq",
        "colab_type": "code",
        "colab": {}
      },
      "source": [
        "dfMain.to_csv('dfPredicted.csv')\n",
        "files.download('dfPredicted.csv')"
      ],
      "execution_count": 0,
      "outputs": []
    }
  ]
}