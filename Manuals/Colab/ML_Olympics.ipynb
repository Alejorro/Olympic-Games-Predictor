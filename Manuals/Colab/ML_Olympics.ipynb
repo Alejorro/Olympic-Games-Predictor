{
  "nbformat": 4,
  "nbformat_minor": 0,
  "metadata": {
    "colab": {
      "name": "ML - Olympics.ipynb",
      "provenance": [],
      "collapsed_sections": []
    },
    "kernelspec": {
      "name": "python3",
      "display_name": "Python 3"
    },
    "accelerator": "TPU"
  },
  "cells": [
    {
      "cell_type": "markdown",
      "metadata": {
        "id": "0hfi2QEG4nbn",
        "colab_type": "text"
      },
      "source": [
        "Importación de librerías"
      ]
    },
    {
      "cell_type": "code",
      "metadata": {
        "id": "xr6JQZNQ4qUA",
        "colab_type": "code",
        "colab": {}
      },
      "source": [
        "import pandas as pd"
      ],
      "execution_count": 0,
      "outputs": []
    },
    {
      "cell_type": "code",
      "metadata": {
        "id": "Q3ZCE7SiOw1b",
        "colab_type": "code",
        "outputId": "8488919d-8b5c-44c0-c1c9-3459c6f460d1",
        "colab": {
          "base_uri": "https://localhost:8080/",
          "height": 191
        }
      },
      "source": [
        "!pip3 install h2o"
      ],
      "execution_count": 66,
      "outputs": [
        {
          "output_type": "stream",
          "text": [
            "Requirement already satisfied: h2o in /usr/local/lib/python3.6/dist-packages (3.28.0.3)\n",
            "Requirement already satisfied: tabulate in /usr/local/lib/python3.6/dist-packages (from h2o) (0.8.6)\n",
            "Requirement already satisfied: future in /usr/local/lib/python3.6/dist-packages (from h2o) (0.16.0)\n",
            "Requirement already satisfied: colorama>=0.3.8 in /usr/local/lib/python3.6/dist-packages (from h2o) (0.4.3)\n",
            "Requirement already satisfied: requests in /usr/local/lib/python3.6/dist-packages (from h2o) (2.21.0)\n",
            "Requirement already satisfied: idna<2.9,>=2.5 in /usr/local/lib/python3.6/dist-packages (from requests->h2o) (2.8)\n",
            "Requirement already satisfied: chardet<3.1.0,>=3.0.2 in /usr/local/lib/python3.6/dist-packages (from requests->h2o) (3.0.4)\n",
            "Requirement already satisfied: urllib3<1.25,>=1.21.1 in /usr/local/lib/python3.6/dist-packages (from requests->h2o) (1.24.3)\n",
            "Requirement already satisfied: certifi>=2017.4.17 in /usr/local/lib/python3.6/dist-packages (from requests->h2o) (2019.11.28)\n"
          ],
          "name": "stdout"
        }
      ]
    },
    {
      "cell_type": "markdown",
      "metadata": {
        "id": "G6Rlh5s54tPs",
        "colab_type": "text"
      },
      "source": [
        "Inicio H2O"
      ]
    },
    {
      "cell_type": "code",
      "metadata": {
        "id": "sYzI4_5UOWUa",
        "colab_type": "code",
        "outputId": "2ae8e3a1-8ac4-40d3-937a-ccfc465588a9",
        "colab": {
          "base_uri": "https://localhost:8080/",
          "height": 380
        }
      },
      "source": [
        "import h2o\n",
        "h2o.init(nthreads = -1, max_mem_size = 8)\n",
        "\n",
        "from h2o.automl import H2OAutoML, get_leaderboard"
      ],
      "execution_count": 67,
      "outputs": [
        {
          "output_type": "stream",
          "text": [
            "Checking whether there is an H2O instance running at http://localhost:54321 . connected.\n"
          ],
          "name": "stdout"
        },
        {
          "output_type": "display_data",
          "data": {
            "text/html": [
              "<div style=\"overflow:auto\"><table style=\"width:50%\"><tr><td>H2O cluster uptime:</td>\n",
              "<td>2 hours 24 mins</td></tr>\n",
              "<tr><td>H2O cluster timezone:</td>\n",
              "<td>Etc/UTC</td></tr>\n",
              "<tr><td>H2O data parsing timezone:</td>\n",
              "<td>UTC</td></tr>\n",
              "<tr><td>H2O cluster version:</td>\n",
              "<td>3.28.0.3</td></tr>\n",
              "<tr><td>H2O cluster version age:</td>\n",
              "<td>1 month and 4 days </td></tr>\n",
              "<tr><td>H2O cluster name:</td>\n",
              "<td>H2O_from_python_unknownUser_ztfple</td></tr>\n",
              "<tr><td>H2O cluster total nodes:</td>\n",
              "<td>1</td></tr>\n",
              "<tr><td>H2O cluster free memory:</td>\n",
              "<td>7.993 Gb</td></tr>\n",
              "<tr><td>H2O cluster total cores:</td>\n",
              "<td>2</td></tr>\n",
              "<tr><td>H2O cluster allowed cores:</td>\n",
              "<td>2</td></tr>\n",
              "<tr><td>H2O cluster status:</td>\n",
              "<td>locked, healthy</td></tr>\n",
              "<tr><td>H2O connection url:</td>\n",
              "<td>http://localhost:54321</td></tr>\n",
              "<tr><td>H2O connection proxy:</td>\n",
              "<td>{'http': None, 'https': None}</td></tr>\n",
              "<tr><td>H2O internal security:</td>\n",
              "<td>False</td></tr>\n",
              "<tr><td>H2O API Extensions:</td>\n",
              "<td>Amazon S3, XGBoost, Algos, AutoML, Core V3, TargetEncoder, Core V4</td></tr>\n",
              "<tr><td>Python version:</td>\n",
              "<td>3.6.9 final</td></tr></table></div>"
            ],
            "text/plain": [
              "--------------------------  ------------------------------------------------------------------\n",
              "H2O cluster uptime:         2 hours 24 mins\n",
              "H2O cluster timezone:       Etc/UTC\n",
              "H2O data parsing timezone:  UTC\n",
              "H2O cluster version:        3.28.0.3\n",
              "H2O cluster version age:    1 month and 4 days\n",
              "H2O cluster name:           H2O_from_python_unknownUser_ztfple\n",
              "H2O cluster total nodes:    1\n",
              "H2O cluster free memory:    7.993 Gb\n",
              "H2O cluster total cores:    2\n",
              "H2O cluster allowed cores:  2\n",
              "H2O cluster status:         locked, healthy\n",
              "H2O connection url:         http://localhost:54321\n",
              "H2O connection proxy:       {'http': None, 'https': None}\n",
              "H2O internal security:      False\n",
              "H2O API Extensions:         Amazon S3, XGBoost, Algos, AutoML, Core V3, TargetEncoder, Core V4\n",
              "Python version:             3.6.9 final\n",
              "--------------------------  ------------------------------------------------------------------"
            ]
          },
          "metadata": {
            "tags": []
          }
        }
      ]
    },
    {
      "cell_type": "markdown",
      "metadata": {
        "id": "HSQYUWVW4xCh",
        "colab_type": "text"
      },
      "source": [
        "Importación y pequeña preparación de Pandas"
      ]
    },
    {
      "cell_type": "code",
      "metadata": {
        "id": "8rd5uiSjMTvB",
        "colab_type": "code",
        "colab": {}
      },
      "source": [
        "df = pd.read_csv(\"/content/drive/My Drive/Csv4.csv\").reset_index(drop=True)"
      ],
      "execution_count": 0,
      "outputs": []
    },
    {
      "cell_type": "code",
      "metadata": {
        "id": "zqBmhJwqv72I",
        "colab_type": "code",
        "colab": {}
      },
      "source": [
        "del df[\"Unnamed: 0\"]"
      ],
      "execution_count": 0,
      "outputs": []
    },
    {
      "cell_type": "code",
      "metadata": {
        "id": "rJO5WslswAaU",
        "colab_type": "code",
        "outputId": "e4a9c4fc-d951-4a30-f946-5e58f6a93ad9",
        "colab": {
          "base_uri": "https://localhost:8080/",
          "height": 206
        }
      },
      "source": [
        "df.head()"
      ],
      "execution_count": 70,
      "outputs": [
        {
          "output_type": "execute_result",
          "data": {
            "text/html": [
              "<div>\n",
              "<style scoped>\n",
              "    .dataframe tbody tr th:only-of-type {\n",
              "        vertical-align: middle;\n",
              "    }\n",
              "\n",
              "    .dataframe tbody tr th {\n",
              "        vertical-align: top;\n",
              "    }\n",
              "\n",
              "    .dataframe thead th {\n",
              "        text-align: right;\n",
              "    }\n",
              "</style>\n",
              "<table border=\"1\" class=\"dataframe\">\n",
              "  <thead>\n",
              "    <tr style=\"text-align: right;\">\n",
              "      <th></th>\n",
              "      <th>Host Country</th>\n",
              "      <th>Year</th>\n",
              "      <th>Region</th>\n",
              "      <th>Athlete</th>\n",
              "      <th>Sport</th>\n",
              "      <th>Medal_Gold</th>\n",
              "      <th>Medal_Silver</th>\n",
              "      <th>Medal_Bronze</th>\n",
              "      <th>Medals</th>\n",
              "    </tr>\n",
              "  </thead>\n",
              "  <tbody>\n",
              "    <tr>\n",
              "      <th>0</th>\n",
              "      <td>ESP</td>\n",
              "      <td>1992</td>\n",
              "      <td>Kuwait</td>\n",
              "      <td>32</td>\n",
              "      <td>7</td>\n",
              "      <td>0</td>\n",
              "      <td>0</td>\n",
              "      <td>0</td>\n",
              "      <td>0</td>\n",
              "    </tr>\n",
              "    <tr>\n",
              "      <th>1</th>\n",
              "      <td>ESP</td>\n",
              "      <td>1992</td>\n",
              "      <td>Niger</td>\n",
              "      <td>3</td>\n",
              "      <td>1</td>\n",
              "      <td>0</td>\n",
              "      <td>0</td>\n",
              "      <td>0</td>\n",
              "      <td>0</td>\n",
              "    </tr>\n",
              "    <tr>\n",
              "      <th>2</th>\n",
              "      <td>ESP</td>\n",
              "      <td>1992</td>\n",
              "      <td>Nigeria</td>\n",
              "      <td>55</td>\n",
              "      <td>8</td>\n",
              "      <td>0</td>\n",
              "      <td>7</td>\n",
              "      <td>4</td>\n",
              "      <td>11</td>\n",
              "    </tr>\n",
              "    <tr>\n",
              "      <th>3</th>\n",
              "      <td>ESP</td>\n",
              "      <td>1992</td>\n",
              "      <td>North Korea</td>\n",
              "      <td>64</td>\n",
              "      <td>12</td>\n",
              "      <td>4</td>\n",
              "      <td>0</td>\n",
              "      <td>6</td>\n",
              "      <td>10</td>\n",
              "    </tr>\n",
              "    <tr>\n",
              "      <th>4</th>\n",
              "      <td>ESP</td>\n",
              "      <td>1992</td>\n",
              "      <td>Norway</td>\n",
              "      <td>83</td>\n",
              "      <td>17</td>\n",
              "      <td>2</td>\n",
              "      <td>20</td>\n",
              "      <td>1</td>\n",
              "      <td>23</td>\n",
              "    </tr>\n",
              "  </tbody>\n",
              "</table>\n",
              "</div>"
            ],
            "text/plain": [
              "  Host Country  Year       Region  ...  Medal_Silver  Medal_Bronze  Medals\n",
              "0          ESP  1992       Kuwait  ...             0             0       0\n",
              "1          ESP  1992        Niger  ...             0             0       0\n",
              "2          ESP  1992      Nigeria  ...             7             4      11\n",
              "3          ESP  1992  North Korea  ...             0             6      10\n",
              "4          ESP  1992       Norway  ...            20             1      23\n",
              "\n",
              "[5 rows x 9 columns]"
            ]
          },
          "metadata": {
            "tags": []
          },
          "execution_count": 70
        }
      ]
    },
    {
      "cell_type": "code",
      "metadata": {
        "id": "SBdfCSPHlCrV",
        "colab_type": "code",
        "outputId": "38bdd43b-6167-4b05-c619-3db41c916a30",
        "colab": {
          "base_uri": "https://localhost:8080/",
          "height": 36
        }
      },
      "source": [
        "df.shape"
      ],
      "execution_count": 71,
      "outputs": [
        {
          "output_type": "execute_result",
          "data": {
            "text/plain": [
              "(1365, 9)"
            ]
          },
          "metadata": {
            "tags": []
          },
          "execution_count": 71
        }
      ]
    },
    {
      "cell_type": "markdown",
      "metadata": {
        "id": "FQBhUsFE44Ge",
        "colab_type": "text"
      },
      "source": [
        "Preparación de la maquinaria de Machine Learning"
      ]
    },
    {
      "cell_type": "code",
      "metadata": {
        "id": "cYf3FhCIOOkU",
        "colab_type": "code",
        "outputId": "33f244f9-37b0-45a0-845a-ec88f108aec8",
        "colab": {
          "base_uri": "https://localhost:8080/",
          "height": 36
        }
      },
      "source": [
        "data = h2o.H2OFrame(df)"
      ],
      "execution_count": 49,
      "outputs": [
        {
          "output_type": "stream",
          "text": [
            "Parse progress: |█████████████████████████████████████████████████████████| 100%\n"
          ],
          "name": "stdout"
        }
      ]
    },
    {
      "cell_type": "code",
      "metadata": {
        "id": "2WB4TzexPKJ_",
        "colab_type": "code",
        "colab": {}
      },
      "source": [
        "splits = data.split_frame(ratios=[0.7, 0.15], seed=1)  "
      ],
      "execution_count": 0,
      "outputs": []
    },
    {
      "cell_type": "code",
      "metadata": {
        "id": "2FrddPvePLh0",
        "colab_type": "code",
        "colab": {}
      },
      "source": [
        "train = splits[0]\n",
        "valid = splits[1]\n",
        "test = splits[2]"
      ],
      "execution_count": 0,
      "outputs": []
    },
    {
      "cell_type": "code",
      "metadata": {
        "id": "A6IiiDa8WYY7",
        "colab_type": "code",
        "colab": {}
      },
      "source": [
        "y = 'Medals'\n",
        "x = list(data.columns)\n",
        "\n",
        "x.remove(\"Medals\")\n",
        "x.remove(\"Medal_Gold\")\n",
        "x.remove(\"Medal_Silver\")\n",
        "x.remove(\"Medal_Bronze\")"
      ],
      "execution_count": 0,
      "outputs": []
    },
    {
      "cell_type": "code",
      "metadata": {
        "id": "bux2f3nGwkwT",
        "colab_type": "code",
        "outputId": "647d5e88-c758-4dd8-b92a-d1e685b8f196",
        "colab": {
          "base_uri": "https://localhost:8080/",
          "height": 36
        }
      },
      "source": [
        "x"
      ],
      "execution_count": 0,
      "outputs": [
        {
          "output_type": "execute_result",
          "data": {
            "text/plain": [
              "['Host Country', 'Year', 'Region', 'Athlete', 'Sport']"
            ]
          },
          "metadata": {
            "tags": []
          },
          "execution_count": 145
        }
      ]
    },
    {
      "cell_type": "code",
      "metadata": {
        "id": "2uPWo5MhU3G_",
        "colab_type": "code",
        "outputId": "f04ff201-36e7-4a90-8f76-01864bd3a7aa",
        "colab": {
          "base_uri": "https://localhost:8080/",
          "height": 36
        }
      },
      "source": [
        "aml = H2OAutoML(max_models = 20, nfolds=10)\n",
        "aml.train(x = x, y = y, training_frame = train)"
      ],
      "execution_count": 0,
      "outputs": [
        {
          "output_type": "stream",
          "text": [
            "AutoML progress: |████████████████████████████████████████████████████████| 100%\n"
          ],
          "name": "stdout"
        }
      ]
    },
    {
      "cell_type": "markdown",
      "metadata": {
        "id": "7oSHw8s4--8B",
        "colab_type": "text"
      },
      "source": [
        "Métricas"
      ]
    },
    {
      "cell_type": "code",
      "metadata": {
        "id": "TnHMl4x-hjQ1",
        "colab_type": "code",
        "outputId": "ca6bbc3f-097d-4a60-f0a4-f1a869762f97",
        "colab": {
          "base_uri": "https://localhost:8080/",
          "height": 62
        }
      },
      "source": [
        "aml.leaderboard.head(1)"
      ],
      "execution_count": 0,
      "outputs": [
        {
          "output_type": "display_data",
          "data": {
            "text/html": [
              "<table>\n",
              "<thead>\n",
              "<tr><th>model_id                                           </th><th style=\"text-align: right;\">  mean_residual_deviance</th><th style=\"text-align: right;\">   rmse</th><th style=\"text-align: right;\">   mse</th><th style=\"text-align: right;\">    mae</th><th style=\"text-align: right;\">  rmsle</th></tr>\n",
              "</thead>\n",
              "<tbody>\n",
              "<tr><td>StackedEnsemble_BestOfFamily_AutoML_20200310_010756</td><td style=\"text-align: right;\">                  61.722</td><td style=\"text-align: right;\">7.85633</td><td style=\"text-align: right;\">61.722</td><td style=\"text-align: right;\">3.27049</td><td style=\"text-align: right;\">    nan</td></tr>\n",
              "</tbody>\n",
              "</table>"
            ]
          },
          "metadata": {
            "tags": []
          }
        },
        {
          "output_type": "execute_result",
          "data": {
            "text/plain": [
              ""
            ]
          },
          "metadata": {
            "tags": []
          },
          "execution_count": 147
        }
      ]
    },
    {
      "cell_type": "code",
      "metadata": {
        "id": "TclNwRxw--F5",
        "colab_type": "code",
        "colab": {}
      },
      "source": [
        "lb = get_leaderboard(aml, extra_columns='ALL')\n",
        "lb.head(rows=lb.nrows)"
      ],
      "execution_count": 0,
      "outputs": []
    },
    {
      "cell_type": "markdown",
      "metadata": {
        "id": "NU7Ureye_B4M",
        "colab_type": "text"
      },
      "source": [
        "Guardado del modelo"
      ]
    },
    {
      "cell_type": "code",
      "metadata": {
        "id": "bxxjxjpAFatL",
        "colab_type": "code",
        "outputId": "aeb5f70c-d2f4-4aef-e9a1-ecb85b9d8c4a",
        "colab": {
          "base_uri": "https://localhost:8080/",
          "height": 36
        }
      },
      "source": [
        "h2o.save_model(aml.leader, path = \"model\")"
      ],
      "execution_count": 0,
      "outputs": [
        {
          "output_type": "execute_result",
          "data": {
            "text/plain": [
              "'/content/model/StackedEnsemble_BestOfFamily_AutoML_20200310_010756'"
            ]
          },
          "metadata": {
            "tags": []
          },
          "execution_count": 167
        }
      ]
    },
    {
      "cell_type": "markdown",
      "metadata": {
        "id": "f2n5cg_m5TYB",
        "colab_type": "text"
      },
      "source": [
        "Predicciones"
      ]
    },
    {
      "cell_type": "code",
      "metadata": {
        "id": "VOKgDcXG0Y4Y",
        "colab_type": "code",
        "colab": {}
      },
      "source": [
        "aml = h2o.load_model(\"/content/drive/My Drive/StackedEnsemble_BestOfFamily_AutoML_20200310_010756\")"
      ],
      "execution_count": 0,
      "outputs": []
    },
    {
      "cell_type": "code",
      "metadata": {
        "id": "7wKWEC10hmib",
        "colab_type": "code",
        "outputId": "db9e8f70-129d-447c-ae55-9ff54d114403",
        "colab": {
          "base_uri": "https://localhost:8080/",
          "height": 124
        }
      },
      "source": [
        "pred = aml.predict(test)\n",
        "pred[pred < 0] = 0\n",
        "pred = pred.round()\n",
        "pred.head(3)"
      ],
      "execution_count": 73,
      "outputs": [
        {
          "output_type": "stream",
          "text": [
            "stackedensemble prediction progress: |████████████████████████████████████| 100%\n"
          ],
          "name": "stdout"
        },
        {
          "output_type": "display_data",
          "data": {
            "text/html": [
              "<table>\n",
              "<thead>\n",
              "<tr><th style=\"text-align: right;\">  predict</th></tr>\n",
              "</thead>\n",
              "<tbody>\n",
              "<tr><td style=\"text-align: right;\">        0</td></tr>\n",
              "<tr><td style=\"text-align: right;\">        0</td></tr>\n",
              "<tr><td style=\"text-align: right;\">      179</td></tr>\n",
              "</tbody>\n",
              "</table>"
            ]
          },
          "metadata": {
            "tags": []
          }
        },
        {
          "output_type": "execute_result",
          "data": {
            "text/plain": [
              ""
            ]
          },
          "metadata": {
            "tags": []
          },
          "execution_count": 73
        }
      ]
    },
    {
      "cell_type": "code",
      "metadata": {
        "id": "zNiLC4Ps2j4p",
        "colab_type": "code",
        "colab": {}
      },
      "source": [
        "predDef = pred.as_data_frame()\n"
      ],
      "execution_count": 0,
      "outputs": []
    },
    {
      "cell_type": "markdown",
      "metadata": {
        "id": "F_qdjFtntIPx",
        "colab_type": "text"
      },
      "source": [
        "Predicciones de los Juegos Olímpicos de Tokio"
      ]
    },
    {
      "cell_type": "code",
      "metadata": {
        "id": "C_cZKQ_OtGih",
        "colab_type": "code",
        "outputId": "dfda27e7-1815-49f7-a239-141febc104ae",
        "colab": {
          "base_uri": "https://localhost:8080/",
          "height": 206
        }
      },
      "source": [
        "df.head()"
      ],
      "execution_count": 75,
      "outputs": [
        {
          "output_type": "execute_result",
          "data": {
            "text/html": [
              "<div>\n",
              "<style scoped>\n",
              "    .dataframe tbody tr th:only-of-type {\n",
              "        vertical-align: middle;\n",
              "    }\n",
              "\n",
              "    .dataframe tbody tr th {\n",
              "        vertical-align: top;\n",
              "    }\n",
              "\n",
              "    .dataframe thead th {\n",
              "        text-align: right;\n",
              "    }\n",
              "</style>\n",
              "<table border=\"1\" class=\"dataframe\">\n",
              "  <thead>\n",
              "    <tr style=\"text-align: right;\">\n",
              "      <th></th>\n",
              "      <th>Host Country</th>\n",
              "      <th>Year</th>\n",
              "      <th>Region</th>\n",
              "      <th>Athlete</th>\n",
              "      <th>Sport</th>\n",
              "      <th>Medal_Gold</th>\n",
              "      <th>Medal_Silver</th>\n",
              "      <th>Medal_Bronze</th>\n",
              "      <th>Medals</th>\n",
              "    </tr>\n",
              "  </thead>\n",
              "  <tbody>\n",
              "    <tr>\n",
              "      <th>0</th>\n",
              "      <td>ESP</td>\n",
              "      <td>1992</td>\n",
              "      <td>Kuwait</td>\n",
              "      <td>32</td>\n",
              "      <td>7</td>\n",
              "      <td>0</td>\n",
              "      <td>0</td>\n",
              "      <td>0</td>\n",
              "      <td>0</td>\n",
              "    </tr>\n",
              "    <tr>\n",
              "      <th>1</th>\n",
              "      <td>ESP</td>\n",
              "      <td>1992</td>\n",
              "      <td>Niger</td>\n",
              "      <td>3</td>\n",
              "      <td>1</td>\n",
              "      <td>0</td>\n",
              "      <td>0</td>\n",
              "      <td>0</td>\n",
              "      <td>0</td>\n",
              "    </tr>\n",
              "    <tr>\n",
              "      <th>2</th>\n",
              "      <td>ESP</td>\n",
              "      <td>1992</td>\n",
              "      <td>Nigeria</td>\n",
              "      <td>55</td>\n",
              "      <td>8</td>\n",
              "      <td>0</td>\n",
              "      <td>7</td>\n",
              "      <td>4</td>\n",
              "      <td>11</td>\n",
              "    </tr>\n",
              "    <tr>\n",
              "      <th>3</th>\n",
              "      <td>ESP</td>\n",
              "      <td>1992</td>\n",
              "      <td>North Korea</td>\n",
              "      <td>64</td>\n",
              "      <td>12</td>\n",
              "      <td>4</td>\n",
              "      <td>0</td>\n",
              "      <td>6</td>\n",
              "      <td>10</td>\n",
              "    </tr>\n",
              "    <tr>\n",
              "      <th>4</th>\n",
              "      <td>ESP</td>\n",
              "      <td>1992</td>\n",
              "      <td>Norway</td>\n",
              "      <td>83</td>\n",
              "      <td>17</td>\n",
              "      <td>2</td>\n",
              "      <td>20</td>\n",
              "      <td>1</td>\n",
              "      <td>23</td>\n",
              "    </tr>\n",
              "  </tbody>\n",
              "</table>\n",
              "</div>"
            ],
            "text/plain": [
              "  Host Country  Year       Region  ...  Medal_Silver  Medal_Bronze  Medals\n",
              "0          ESP  1992       Kuwait  ...             0             0       0\n",
              "1          ESP  1992        Niger  ...             0             0       0\n",
              "2          ESP  1992      Nigeria  ...             7             4      11\n",
              "3          ESP  1992  North Korea  ...             0             6      10\n",
              "4          ESP  1992       Norway  ...            20             1      23\n",
              "\n",
              "[5 rows x 9 columns]"
            ]
          },
          "metadata": {
            "tags": []
          },
          "execution_count": 75
        }
      ]
    },
    {
      "cell_type": "code",
      "metadata": {
        "id": "qaI5vl7nt4yF",
        "colab_type": "code",
        "colab": {}
      },
      "source": [
        "df.drop(columns=[\"Medals\",\"Medal_Gold\",\"Medal_Silver\",\"Medal_Bronze\"], inplace=True)\n",
        "df2 = df.loc[df[\"Year\"]==2016].sort_values(by=[\"Year\"]).reset_index(drop=True)\n",
        "df2[\"Year\"] = df2[\"Year\"].replace({2016: 2020})"
      ],
      "execution_count": 0,
      "outputs": []
    },
    {
      "cell_type": "code",
      "metadata": {
        "id": "uzKM0JdnuzwK",
        "colab_type": "code",
        "outputId": "bd63d268-80d1-4dc7-a2ad-4999dd2e6b7a",
        "colab": {
          "base_uri": "https://localhost:8080/",
          "height": 206
        }
      },
      "source": [
        "df2.head()"
      ],
      "execution_count": 77,
      "outputs": [
        {
          "output_type": "execute_result",
          "data": {
            "text/html": [
              "<div>\n",
              "<style scoped>\n",
              "    .dataframe tbody tr th:only-of-type {\n",
              "        vertical-align: middle;\n",
              "    }\n",
              "\n",
              "    .dataframe tbody tr th {\n",
              "        vertical-align: top;\n",
              "    }\n",
              "\n",
              "    .dataframe thead th {\n",
              "        text-align: right;\n",
              "    }\n",
              "</style>\n",
              "<table border=\"1\" class=\"dataframe\">\n",
              "  <thead>\n",
              "    <tr style=\"text-align: right;\">\n",
              "      <th></th>\n",
              "      <th>Host Country</th>\n",
              "      <th>Year</th>\n",
              "      <th>Region</th>\n",
              "      <th>Athlete</th>\n",
              "      <th>Sport</th>\n",
              "    </tr>\n",
              "  </thead>\n",
              "  <tbody>\n",
              "    <tr>\n",
              "      <th>0</th>\n",
              "      <td>BRA</td>\n",
              "      <td>2020</td>\n",
              "      <td>Oman</td>\n",
              "      <td>4</td>\n",
              "      <td>2</td>\n",
              "    </tr>\n",
              "    <tr>\n",
              "      <th>1</th>\n",
              "      <td>BRA</td>\n",
              "      <td>2020</td>\n",
              "      <td>Albania</td>\n",
              "      <td>6</td>\n",
              "      <td>3</td>\n",
              "    </tr>\n",
              "    <tr>\n",
              "      <th>2</th>\n",
              "      <td>BRA</td>\n",
              "      <td>2020</td>\n",
              "      <td>Algeria</td>\n",
              "      <td>64</td>\n",
              "      <td>13</td>\n",
              "    </tr>\n",
              "    <tr>\n",
              "      <th>3</th>\n",
              "      <td>BRA</td>\n",
              "      <td>2020</td>\n",
              "      <td>Andorra</td>\n",
              "      <td>4</td>\n",
              "      <td>4</td>\n",
              "    </tr>\n",
              "    <tr>\n",
              "      <th>4</th>\n",
              "      <td>BRA</td>\n",
              "      <td>2020</td>\n",
              "      <td>Angola</td>\n",
              "      <td>26</td>\n",
              "      <td>7</td>\n",
              "    </tr>\n",
              "  </tbody>\n",
              "</table>\n",
              "</div>"
            ],
            "text/plain": [
              "  Host Country  Year   Region  Athlete  Sport\n",
              "0          BRA  2020     Oman        4      2\n",
              "1          BRA  2020  Albania        6      3\n",
              "2          BRA  2020  Algeria       64     13\n",
              "3          BRA  2020  Andorra        4      4\n",
              "4          BRA  2020   Angola       26      7"
            ]
          },
          "metadata": {
            "tags": []
          },
          "execution_count": 77
        }
      ]
    },
    {
      "cell_type": "code",
      "metadata": {
        "id": "bspiENks3dNG",
        "colab_type": "code",
        "outputId": "08de696e-fb98-4549-bb32-60d7c841ed79",
        "colab": {
          "base_uri": "https://localhost:8080/",
          "height": 36
        }
      },
      "source": [
        "data2 = h2o.H2OFrame(df2)"
      ],
      "execution_count": 78,
      "outputs": [
        {
          "output_type": "stream",
          "text": [
            "Parse progress: |█████████████████████████████████████████████████████████| 100%\n"
          ],
          "name": "stdout"
        }
      ]
    },
    {
      "cell_type": "code",
      "metadata": {
        "id": "rDMsrP9-2SFk",
        "colab_type": "code",
        "outputId": "d500cb89-78b7-4b9c-e0ad-07a86c5212b4",
        "colab": {
          "base_uri": "https://localhost:8080/",
          "height": 36
        }
      },
      "source": [
        "pred = aml.predict(data2)\n",
        "pred[pred < 0] = 0\n",
        "pred = pred.round()"
      ],
      "execution_count": 79,
      "outputs": [
        {
          "output_type": "stream",
          "text": [
            "stackedensemble prediction progress: |████████████████████████████████████| 100%\n"
          ],
          "name": "stdout"
        }
      ]
    },
    {
      "cell_type": "code",
      "metadata": {
        "id": "M19TkOhH3E5E",
        "colab_type": "code",
        "colab": {}
      },
      "source": [
        "pred = pred.as_data_frame()\n"
      ],
      "execution_count": 0,
      "outputs": []
    },
    {
      "cell_type": "code",
      "metadata": {
        "id": "APtaFlLk4CkB",
        "colab_type": "code",
        "colab": {}
      },
      "source": [
        "dfMain = df2.join(pred)"
      ],
      "execution_count": 0,
      "outputs": []
    },
    {
      "cell_type": "code",
      "metadata": {
        "id": "-RP2LzFS4H2h",
        "colab_type": "code",
        "outputId": "c0c660e7-41c5-4a22-a550-a55b058fabb8",
        "colab": {
          "base_uri": "https://localhost:8080/",
          "height": 424
        }
      },
      "source": [
        "dfMain"
      ],
      "execution_count": 82,
      "outputs": [
        {
          "output_type": "execute_result",
          "data": {
            "text/html": [
              "<div>\n",
              "<style scoped>\n",
              "    .dataframe tbody tr th:only-of-type {\n",
              "        vertical-align: middle;\n",
              "    }\n",
              "\n",
              "    .dataframe tbody tr th {\n",
              "        vertical-align: top;\n",
              "    }\n",
              "\n",
              "    .dataframe thead th {\n",
              "        text-align: right;\n",
              "    }\n",
              "</style>\n",
              "<table border=\"1\" class=\"dataframe\">\n",
              "  <thead>\n",
              "    <tr style=\"text-align: right;\">\n",
              "      <th></th>\n",
              "      <th>Host Country</th>\n",
              "      <th>Year</th>\n",
              "      <th>Region</th>\n",
              "      <th>Athlete</th>\n",
              "      <th>Sport</th>\n",
              "      <th>predict</th>\n",
              "    </tr>\n",
              "  </thead>\n",
              "  <tbody>\n",
              "    <tr>\n",
              "      <th>0</th>\n",
              "      <td>BRA</td>\n",
              "      <td>2020</td>\n",
              "      <td>Oman</td>\n",
              "      <td>4</td>\n",
              "      <td>2</td>\n",
              "      <td>1</td>\n",
              "    </tr>\n",
              "    <tr>\n",
              "      <th>1</th>\n",
              "      <td>BRA</td>\n",
              "      <td>2020</td>\n",
              "      <td>Albania</td>\n",
              "      <td>6</td>\n",
              "      <td>3</td>\n",
              "      <td>1</td>\n",
              "    </tr>\n",
              "    <tr>\n",
              "      <th>2</th>\n",
              "      <td>BRA</td>\n",
              "      <td>2020</td>\n",
              "      <td>Algeria</td>\n",
              "      <td>64</td>\n",
              "      <td>13</td>\n",
              "      <td>3</td>\n",
              "    </tr>\n",
              "    <tr>\n",
              "      <th>3</th>\n",
              "      <td>BRA</td>\n",
              "      <td>2020</td>\n",
              "      <td>Andorra</td>\n",
              "      <td>4</td>\n",
              "      <td>4</td>\n",
              "      <td>0</td>\n",
              "    </tr>\n",
              "    <tr>\n",
              "      <th>4</th>\n",
              "      <td>BRA</td>\n",
              "      <td>2020</td>\n",
              "      <td>Angola</td>\n",
              "      <td>26</td>\n",
              "      <td>7</td>\n",
              "      <td>0</td>\n",
              "    </tr>\n",
              "    <tr>\n",
              "      <th>...</th>\n",
              "      <td>...</td>\n",
              "      <td>...</td>\n",
              "      <td>...</td>\n",
              "      <td>...</td>\n",
              "      <td>...</td>\n",
              "      <td>...</td>\n",
              "    </tr>\n",
              "    <tr>\n",
              "      <th>198</th>\n",
              "      <td>BRA</td>\n",
              "      <td>2020</td>\n",
              "      <td>Somalia</td>\n",
              "      <td>2</td>\n",
              "      <td>1</td>\n",
              "      <td>1</td>\n",
              "    </tr>\n",
              "    <tr>\n",
              "      <th>199</th>\n",
              "      <td>BRA</td>\n",
              "      <td>2020</td>\n",
              "      <td>Turkey</td>\n",
              "      <td>100</td>\n",
              "      <td>21</td>\n",
              "      <td>11</td>\n",
              "    </tr>\n",
              "    <tr>\n",
              "      <th>200</th>\n",
              "      <td>BRA</td>\n",
              "      <td>2020</td>\n",
              "      <td>Turkmenistan</td>\n",
              "      <td>9</td>\n",
              "      <td>5</td>\n",
              "      <td>0</td>\n",
              "    </tr>\n",
              "    <tr>\n",
              "      <th>201</th>\n",
              "      <td>BRA</td>\n",
              "      <td>2020</td>\n",
              "      <td>Swaziland</td>\n",
              "      <td>2</td>\n",
              "      <td>1</td>\n",
              "      <td>0</td>\n",
              "    </tr>\n",
              "    <tr>\n",
              "      <th>202</th>\n",
              "      <td>BRA</td>\n",
              "      <td>2020</td>\n",
              "      <td>Solomon Islands</td>\n",
              "      <td>3</td>\n",
              "      <td>2</td>\n",
              "      <td>1</td>\n",
              "    </tr>\n",
              "  </tbody>\n",
              "</table>\n",
              "<p>203 rows × 6 columns</p>\n",
              "</div>"
            ],
            "text/plain": [
              "    Host Country  Year           Region  Athlete  Sport  predict\n",
              "0            BRA  2020             Oman        4      2        1\n",
              "1            BRA  2020          Albania        6      3        1\n",
              "2            BRA  2020          Algeria       64     13        3\n",
              "3            BRA  2020          Andorra        4      4        0\n",
              "4            BRA  2020           Angola       26      7        0\n",
              "..           ...   ...              ...      ...    ...      ...\n",
              "198          BRA  2020          Somalia        2      1        1\n",
              "199          BRA  2020           Turkey      100     21       11\n",
              "200          BRA  2020     Turkmenistan        9      5        0\n",
              "201          BRA  2020        Swaziland        2      1        0\n",
              "202          BRA  2020  Solomon Islands        3      2        1\n",
              "\n",
              "[203 rows x 6 columns]"
            ]
          },
          "metadata": {
            "tags": []
          },
          "execution_count": 82
        }
      ]
    },
    {
      "cell_type": "code",
      "metadata": {
        "id": "rQGNoWgD1gva",
        "colab_type": "code",
        "colab": {
          "base_uri": "https://localhost:8080/",
          "height": 81
        },
        "outputId": "ffdbc18c-dc70-46e4-b714-6f4125072df1"
      },
      "source": [
        "dfMain.loc[asd[\"Region\"]==\"Spain\"]"
      ],
      "execution_count": 83,
      "outputs": [
        {
          "output_type": "execute_result",
          "data": {
            "text/html": [
              "<div>\n",
              "<style scoped>\n",
              "    .dataframe tbody tr th:only-of-type {\n",
              "        vertical-align: middle;\n",
              "    }\n",
              "\n",
              "    .dataframe tbody tr th {\n",
              "        vertical-align: top;\n",
              "    }\n",
              "\n",
              "    .dataframe thead th {\n",
              "        text-align: right;\n",
              "    }\n",
              "</style>\n",
              "<table border=\"1\" class=\"dataframe\">\n",
              "  <thead>\n",
              "    <tr style=\"text-align: right;\">\n",
              "      <th></th>\n",
              "      <th>Host Country</th>\n",
              "      <th>Year</th>\n",
              "      <th>Region</th>\n",
              "      <th>Athlete</th>\n",
              "      <th>Sport</th>\n",
              "      <th>predict</th>\n",
              "    </tr>\n",
              "  </thead>\n",
              "  <tbody>\n",
              "    <tr>\n",
              "      <th>194</th>\n",
              "      <td>BRA</td>\n",
              "      <td>2020</td>\n",
              "      <td>Spain</td>\n",
              "      <td>307</td>\n",
              "      <td>28</td>\n",
              "      <td>56</td>\n",
              "    </tr>\n",
              "  </tbody>\n",
              "</table>\n",
              "</div>"
            ],
            "text/plain": [
              "    Host Country  Year Region  Athlete  Sport  predict\n",
              "194          BRA  2020  Spain      307     28       56"
            ]
          },
          "metadata": {
            "tags": []
          },
          "execution_count": 83
        }
      ]
    },
    {
      "cell_type": "code",
      "metadata": {
        "id": "xMZwtfTr2Oxn",
        "colab_type": "code",
        "colab": {
          "base_uri": "https://localhost:8080/",
          "height": 81
        },
        "outputId": "2beb98f8-2214-454b-bbe6-6b9c4d728472"
      },
      "source": [
        "dfMain.loc[asd[\"Region\"]==\"USA\"]"
      ],
      "execution_count": 84,
      "outputs": [
        {
          "output_type": "execute_result",
          "data": {
            "text/html": [
              "<div>\n",
              "<style scoped>\n",
              "    .dataframe tbody tr th:only-of-type {\n",
              "        vertical-align: middle;\n",
              "    }\n",
              "\n",
              "    .dataframe tbody tr th {\n",
              "        vertical-align: top;\n",
              "    }\n",
              "\n",
              "    .dataframe thead th {\n",
              "        text-align: right;\n",
              "    }\n",
              "</style>\n",
              "<table border=\"1\" class=\"dataframe\">\n",
              "  <thead>\n",
              "    <tr style=\"text-align: right;\">\n",
              "      <th></th>\n",
              "      <th>Host Country</th>\n",
              "      <th>Year</th>\n",
              "      <th>Region</th>\n",
              "      <th>Athlete</th>\n",
              "      <th>Sport</th>\n",
              "      <th>predict</th>\n",
              "    </tr>\n",
              "  </thead>\n",
              "  <tbody>\n",
              "    <tr>\n",
              "      <th>177</th>\n",
              "      <td>BRA</td>\n",
              "      <td>2020</td>\n",
              "      <td>USA</td>\n",
              "      <td>555</td>\n",
              "      <td>33</td>\n",
              "      <td>258</td>\n",
              "    </tr>\n",
              "  </tbody>\n",
              "</table>\n",
              "</div>"
            ],
            "text/plain": [
              "    Host Country  Year Region  Athlete  Sport  predict\n",
              "177          BRA  2020    USA      555     33      258"
            ]
          },
          "metadata": {
            "tags": []
          },
          "execution_count": 84
        }
      ]
    },
    {
      "cell_type": "markdown",
      "metadata": {
        "id": "fN_ODxLWVhex",
        "colab_type": "text"
      },
      "source": [
        "Exportación de resultados"
      ]
    },
    {
      "cell_type": "code",
      "metadata": {
        "id": "qkNfN1IYXaxq",
        "colab_type": "code",
        "colab": {}
      },
      "source": [
        "from google.colab import files\n",
        "\n",
        "dfMain.to_csv('df.csv')\n",
        "files.download('df.csv')"
      ],
      "execution_count": 0,
      "outputs": []
    }
  ]
}