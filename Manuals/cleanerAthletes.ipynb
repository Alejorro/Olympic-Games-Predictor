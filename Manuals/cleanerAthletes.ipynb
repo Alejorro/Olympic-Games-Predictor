{
 "nbformat": 4,
 "nbformat_minor": 2,
 "metadata": {
  "language_info": {
   "name": "python",
   "codemirror_mode": {
    "name": "ipython",
    "version": 3
   },
   "version": "3.6.9-final"
  },
  "orig_nbformat": 2,
  "file_extension": ".py",
  "mimetype": "text/x-python",
  "name": "python",
  "npconvert_exporter": "python",
  "pygments_lexer": "ipython3",
  "version": 3,
  "kernelspec": {
   "name": "python36964bit393d81eb15b54b0093ea31921d80c86d",
   "display_name": "Python 3.6.9 64-bit"
  }
 },
 "cells": [
  {
   "cell_type": "markdown",
   "metadata": {},
   "source": [
    "## Importación de librerías"
   ]
  },
  {
   "cell_type": "code",
   "execution_count": 111,
   "metadata": {},
   "outputs": [],
   "source": [
    "import pandas as pd"
   ]
  },
  {
   "cell_type": "markdown",
   "metadata": {},
   "source": [
    "## Importación de CSV"
   ]
  },
  {
   "cell_type": "code",
   "execution_count": 112,
   "metadata": {},
   "outputs": [
    {
     "data": {
      "text/html": "<div>\n<style scoped>\n    .dataframe tbody tr th:only-of-type {\n        vertical-align: middle;\n    }\n\n    .dataframe tbody tr th {\n        vertical-align: top;\n    }\n\n    .dataframe thead th {\n        text-align: right;\n    }\n</style>\n<table border=\"1\" class=\"dataframe\">\n  <thead>\n    <tr style=\"text-align: right;\">\n      <th></th>\n      <th>ID</th>\n      <th>Name</th>\n      <th>Sex</th>\n      <th>Age</th>\n      <th>Height</th>\n      <th>Weight</th>\n      <th>Team</th>\n      <th>NOC</th>\n      <th>Games</th>\n      <th>Year</th>\n      <th>Season</th>\n      <th>City</th>\n      <th>Sport</th>\n      <th>Event</th>\n      <th>Medal</th>\n    </tr>\n  </thead>\n  <tbody>\n    <tr>\n      <th>0</th>\n      <td>1</td>\n      <td>A Dijiang</td>\n      <td>M</td>\n      <td>24.0</td>\n      <td>180.0</td>\n      <td>80.0</td>\n      <td>China</td>\n      <td>CHN</td>\n      <td>1992 Summer</td>\n      <td>1992</td>\n      <td>Summer</td>\n      <td>Barcelona</td>\n      <td>Basketball</td>\n      <td>Basketball Men's Basketball</td>\n      <td>NaN</td>\n    </tr>\n    <tr>\n      <th>1</th>\n      <td>2</td>\n      <td>A Lamusi</td>\n      <td>M</td>\n      <td>23.0</td>\n      <td>170.0</td>\n      <td>60.0</td>\n      <td>China</td>\n      <td>CHN</td>\n      <td>2012 Summer</td>\n      <td>2012</td>\n      <td>Summer</td>\n      <td>London</td>\n      <td>Judo</td>\n      <td>Judo Men's Extra-Lightweight</td>\n      <td>NaN</td>\n    </tr>\n    <tr>\n      <th>2</th>\n      <td>3</td>\n      <td>Gunnar Nielsen Aaby</td>\n      <td>M</td>\n      <td>24.0</td>\n      <td>NaN</td>\n      <td>NaN</td>\n      <td>Denmark</td>\n      <td>DEN</td>\n      <td>1920 Summer</td>\n      <td>1920</td>\n      <td>Summer</td>\n      <td>Antwerpen</td>\n      <td>Football</td>\n      <td>Football Men's Football</td>\n      <td>NaN</td>\n    </tr>\n    <tr>\n      <th>3</th>\n      <td>4</td>\n      <td>Edgar Lindenau Aabye</td>\n      <td>M</td>\n      <td>34.0</td>\n      <td>NaN</td>\n      <td>NaN</td>\n      <td>Denmark/Sweden</td>\n      <td>DEN</td>\n      <td>1900 Summer</td>\n      <td>1900</td>\n      <td>Summer</td>\n      <td>Paris</td>\n      <td>Tug-Of-War</td>\n      <td>Tug-Of-War Men's Tug-Of-War</td>\n      <td>Gold</td>\n    </tr>\n    <tr>\n      <th>4</th>\n      <td>5</td>\n      <td>Christine Jacoba Aaftink</td>\n      <td>F</td>\n      <td>21.0</td>\n      <td>185.0</td>\n      <td>82.0</td>\n      <td>Netherlands</td>\n      <td>NED</td>\n      <td>1988 Winter</td>\n      <td>1988</td>\n      <td>Winter</td>\n      <td>Calgary</td>\n      <td>Speed Skating</td>\n      <td>Speed Skating Women's 500 metres</td>\n      <td>NaN</td>\n    </tr>\n  </tbody>\n</table>\n</div>",
      "text/plain": "   ID                      Name Sex   Age  Height  Weight            Team  \\\n0   1                 A Dijiang   M  24.0   180.0    80.0           China   \n1   2                  A Lamusi   M  23.0   170.0    60.0           China   \n2   3       Gunnar Nielsen Aaby   M  24.0     NaN     NaN         Denmark   \n3   4      Edgar Lindenau Aabye   M  34.0     NaN     NaN  Denmark/Sweden   \n4   5  Christine Jacoba Aaftink   F  21.0   185.0    82.0     Netherlands   \n\n   NOC        Games  Year  Season       City          Sport  \\\n0  CHN  1992 Summer  1992  Summer  Barcelona     Basketball   \n1  CHN  2012 Summer  2012  Summer     London           Judo   \n2  DEN  1920 Summer  1920  Summer  Antwerpen       Football   \n3  DEN  1900 Summer  1900  Summer      Paris     Tug-Of-War   \n4  NED  1988 Winter  1988  Winter    Calgary  Speed Skating   \n\n                              Event Medal  \n0       Basketball Men's Basketball   NaN  \n1      Judo Men's Extra-Lightweight   NaN  \n2           Football Men's Football   NaN  \n3       Tug-Of-War Men's Tug-Of-War  Gold  \n4  Speed Skating Women's 500 metres   NaN  "
     },
     "execution_count": 112,
     "metadata": {},
     "output_type": "execute_result"
    }
   ],
   "source": [
    "df = pd.read_csv(\"Input/athlete_events.csv\")  \n",
    "\n",
    "df.head()"
   ]
  },
  {
   "cell_type": "markdown",
   "metadata": {},
   "source": [
    "## Inspección de datos"
   ]
  },
  {
   "cell_type": "code",
   "execution_count": 113,
   "metadata": {},
   "outputs": [
    {
     "data": {
      "text/plain": "(271116, 15)"
     },
     "execution_count": 113,
     "metadata": {},
     "output_type": "execute_result"
    }
   ],
   "source": [
    "df.shape"
   ]
  },
  {
   "cell_type": "markdown",
   "metadata": {},
   "source": [
    "## Limpieza de datos"
   ]
  },
  {
   "cell_type": "markdown",
   "metadata": {},
   "source": [
    "**Eliminación de columnas de escasa relevancia**"
   ]
  },
  {
   "cell_type": "code",
   "execution_count": 114,
   "metadata": {},
   "outputs": [],
   "source": [
    "df.drop(columns=[\"ID\",\"Name\",\"Games\",\"City\",\"Event\",\"NOC\"], axis=1, inplace=True)"
   ]
  },
  {
   "cell_type": "code",
   "execution_count": 115,
   "metadata": {},
   "outputs": [
    {
     "data": {
      "text/html": "<div>\n<style scoped>\n    .dataframe tbody tr th:only-of-type {\n        vertical-align: middle;\n    }\n\n    .dataframe tbody tr th {\n        vertical-align: top;\n    }\n\n    .dataframe thead th {\n        text-align: right;\n    }\n</style>\n<table border=\"1\" class=\"dataframe\">\n  <thead>\n    <tr style=\"text-align: right;\">\n      <th></th>\n      <th>Sex</th>\n      <th>Age</th>\n      <th>Height</th>\n      <th>Weight</th>\n      <th>Team</th>\n      <th>Year</th>\n      <th>Season</th>\n      <th>Sport</th>\n      <th>Medal</th>\n    </tr>\n  </thead>\n  <tbody>\n    <tr>\n      <th>0</th>\n      <td>M</td>\n      <td>24.0</td>\n      <td>180.0</td>\n      <td>80.0</td>\n      <td>China</td>\n      <td>1992</td>\n      <td>Summer</td>\n      <td>Basketball</td>\n      <td>NaN</td>\n    </tr>\n    <tr>\n      <th>1</th>\n      <td>M</td>\n      <td>23.0</td>\n      <td>170.0</td>\n      <td>60.0</td>\n      <td>China</td>\n      <td>2012</td>\n      <td>Summer</td>\n      <td>Judo</td>\n      <td>NaN</td>\n    </tr>\n    <tr>\n      <th>2</th>\n      <td>M</td>\n      <td>24.0</td>\n      <td>NaN</td>\n      <td>NaN</td>\n      <td>Denmark</td>\n      <td>1920</td>\n      <td>Summer</td>\n      <td>Football</td>\n      <td>NaN</td>\n    </tr>\n    <tr>\n      <th>3</th>\n      <td>M</td>\n      <td>34.0</td>\n      <td>NaN</td>\n      <td>NaN</td>\n      <td>Denmark/Sweden</td>\n      <td>1900</td>\n      <td>Summer</td>\n      <td>Tug-Of-War</td>\n      <td>Gold</td>\n    </tr>\n    <tr>\n      <th>4</th>\n      <td>F</td>\n      <td>21.0</td>\n      <td>185.0</td>\n      <td>82.0</td>\n      <td>Netherlands</td>\n      <td>1988</td>\n      <td>Winter</td>\n      <td>Speed Skating</td>\n      <td>NaN</td>\n    </tr>\n  </tbody>\n</table>\n</div>",
      "text/plain": "  Sex   Age  Height  Weight            Team  Year  Season          Sport Medal\n0   M  24.0   180.0    80.0           China  1992  Summer     Basketball   NaN\n1   M  23.0   170.0    60.0           China  2012  Summer           Judo   NaN\n2   M  24.0     NaN     NaN         Denmark  1920  Summer       Football   NaN\n3   M  34.0     NaN     NaN  Denmark/Sweden  1900  Summer     Tug-Of-War  Gold\n4   F  21.0   185.0    82.0     Netherlands  1988  Winter  Speed Skating   NaN"
     },
     "execution_count": 115,
     "metadata": {},
     "output_type": "execute_result"
    }
   ],
   "source": [
    "df.head()"
   ]
  },
  {
   "cell_type": "markdown",
   "metadata": {},
   "source": [
    "**Eliminación de años anteriores a la segunda guerra mundial**"
   ]
  },
  {
   "cell_type": "code",
   "execution_count": 116,
   "metadata": {},
   "outputs": [
    {
     "data": {
      "text/html": "<div>\n<style scoped>\n    .dataframe tbody tr th:only-of-type {\n        vertical-align: middle;\n    }\n\n    .dataframe tbody tr th {\n        vertical-align: top;\n    }\n\n    .dataframe thead th {\n        text-align: right;\n    }\n</style>\n<table border=\"1\" class=\"dataframe\">\n  <thead>\n    <tr style=\"text-align: right;\">\n      <th></th>\n      <th>Sex</th>\n      <th>Age</th>\n      <th>Height</th>\n      <th>Weight</th>\n      <th>Team</th>\n      <th>Year</th>\n      <th>Season</th>\n      <th>Sport</th>\n      <th>Medal</th>\n    </tr>\n  </thead>\n  <tbody>\n    <tr>\n      <th>0</th>\n      <td>M</td>\n      <td>30.0</td>\n      <td>NaN</td>\n      <td>NaN</td>\n      <td>Hungary</td>\n      <td>1948</td>\n      <td>Summer</td>\n      <td>Boxing</td>\n      <td>NaN</td>\n    </tr>\n    <tr>\n      <th>1</th>\n      <td>M</td>\n      <td>NaN</td>\n      <td>NaN</td>\n      <td>NaN</td>\n      <td>Iran</td>\n      <td>1948</td>\n      <td>Summer</td>\n      <td>Wrestling</td>\n      <td>NaN</td>\n    </tr>\n    <tr>\n      <th>2</th>\n      <td>M</td>\n      <td>26.0</td>\n      <td>NaN</td>\n      <td>NaN</td>\n      <td>Great Britain</td>\n      <td>1948</td>\n      <td>Summer</td>\n      <td>Rowing</td>\n      <td>Silver</td>\n    </tr>\n    <tr>\n      <th>3</th>\n      <td>M</td>\n      <td>25.0</td>\n      <td>NaN</td>\n      <td>NaN</td>\n      <td>Italy</td>\n      <td>1948</td>\n      <td>Summer</td>\n      <td>Basketball</td>\n      <td>NaN</td>\n    </tr>\n    <tr>\n      <th>4</th>\n      <td>M</td>\n      <td>34.0</td>\n      <td>NaN</td>\n      <td>NaN</td>\n      <td>Uruguay</td>\n      <td>1948</td>\n      <td>Summer</td>\n      <td>Water Polo</td>\n      <td>NaN</td>\n    </tr>\n  </tbody>\n</table>\n</div>",
      "text/plain": "  Sex   Age  Height  Weight           Team  Year  Season       Sport   Medal\n0   M  30.0     NaN     NaN        Hungary  1948  Summer      Boxing     NaN\n1   M   NaN     NaN     NaN           Iran  1948  Summer   Wrestling     NaN\n2   M  26.0     NaN     NaN  Great Britain  1948  Summer      Rowing  Silver\n3   M  25.0     NaN     NaN          Italy  1948  Summer  Basketball     NaN\n4   M  34.0     NaN     NaN        Uruguay  1948  Summer  Water Polo     NaN"
     },
     "metadata": {},
     "output_type": "display_data"
    },
    {
     "data": {
      "text/html": "<div>\n<style scoped>\n    .dataframe tbody tr th:only-of-type {\n        vertical-align: middle;\n    }\n\n    .dataframe tbody tr th {\n        vertical-align: top;\n    }\n\n    .dataframe thead th {\n        text-align: right;\n    }\n</style>\n<table border=\"1\" class=\"dataframe\">\n  <thead>\n    <tr style=\"text-align: right;\">\n      <th></th>\n      <th>Sex</th>\n      <th>Age</th>\n      <th>Height</th>\n      <th>Weight</th>\n      <th>Team</th>\n      <th>Year</th>\n      <th>Season</th>\n      <th>Sport</th>\n      <th>Medal</th>\n    </tr>\n  </thead>\n  <tbody>\n    <tr>\n      <th>232339</th>\n      <td>M</td>\n      <td>23.0</td>\n      <td>167.0</td>\n      <td>67.0</td>\n      <td>Ukraine</td>\n      <td>2016</td>\n      <td>Summer</td>\n      <td>Gymnastics</td>\n      <td>NaN</td>\n    </tr>\n    <tr>\n      <th>232340</th>\n      <td>M</td>\n      <td>23.0</td>\n      <td>167.0</td>\n      <td>67.0</td>\n      <td>Ukraine</td>\n      <td>2016</td>\n      <td>Summer</td>\n      <td>Gymnastics</td>\n      <td>NaN</td>\n    </tr>\n    <tr>\n      <th>232341</th>\n      <td>M</td>\n      <td>30.0</td>\n      <td>167.0</td>\n      <td>64.0</td>\n      <td>Iran</td>\n      <td>2016</td>\n      <td>Summer</td>\n      <td>Wrestling</td>\n      <td>NaN</td>\n    </tr>\n    <tr>\n      <th>232342</th>\n      <td>F</td>\n      <td>26.0</td>\n      <td>159.0</td>\n      <td>45.0</td>\n      <td>Morocco</td>\n      <td>2016</td>\n      <td>Summer</td>\n      <td>Athletics</td>\n      <td>NaN</td>\n    </tr>\n    <tr>\n      <th>232343</th>\n      <td>M</td>\n      <td>28.0</td>\n      <td>175.0</td>\n      <td>78.0</td>\n      <td>Argentina</td>\n      <td>2016</td>\n      <td>Summer</td>\n      <td>Shooting</td>\n      <td>NaN</td>\n    </tr>\n  </tbody>\n</table>\n</div>",
      "text/plain": "       Sex   Age  Height  Weight       Team  Year  Season       Sport Medal\n232339   M  23.0   167.0    67.0    Ukraine  2016  Summer  Gymnastics   NaN\n232340   M  23.0   167.0    67.0    Ukraine  2016  Summer  Gymnastics   NaN\n232341   M  30.0   167.0    64.0       Iran  2016  Summer   Wrestling   NaN\n232342   F  26.0   159.0    45.0    Morocco  2016  Summer   Athletics   NaN\n232343   M  28.0   175.0    78.0  Argentina  2016  Summer    Shooting   NaN"
     },
     "execution_count": 116,
     "metadata": {},
     "output_type": "execute_result"
    }
   ],
   "source": [
    "df = df.loc[df.Year>=1990].sort_values(by=[\"Year\"]).reset_index(drop=True)\n",
    "\n",
    "display(df.head())\n",
    "df.tail()"
   ]
  },
  {
   "cell_type": "markdown",
   "metadata": {},
   "source": [
    "**Comprobación de valores nulos**"
   ]
  },
  {
   "cell_type": "code",
   "execution_count": 117,
   "metadata": {},
   "outputs": [
    {
     "data": {
      "text/plain": "Sex            0\nAge         3206\nHeight     28348\nWeight     29078\nTeam           0\nYear           0\nSeason         0\nSport          0\nMedal     200881\ndtype: int64"
     },
     "execution_count": 117,
     "metadata": {},
     "output_type": "execute_result"
    }
   ],
   "source": [
    "df.isnull().sum()"
   ]
  },
  {
   "cell_type": "code",
   "execution_count": 118,
   "metadata": {},
   "outputs": [
    {
     "data": {
      "text/html": "<div>\n<style scoped>\n    .dataframe tbody tr th:only-of-type {\n        vertical-align: middle;\n    }\n\n    .dataframe tbody tr th {\n        vertical-align: top;\n    }\n\n    .dataframe thead th {\n        text-align: right;\n    }\n</style>\n<table border=\"1\" class=\"dataframe\">\n  <thead>\n    <tr style=\"text-align: right;\">\n      <th></th>\n      <th>Sex</th>\n      <th>Age</th>\n      <th>Height</th>\n      <th>Weight</th>\n      <th>Team</th>\n      <th>Year</th>\n      <th>Season</th>\n      <th>Sport</th>\n      <th>Medal</th>\n    </tr>\n  </thead>\n  <tbody>\n    <tr>\n      <th>0</th>\n      <td>M</td>\n      <td>30.0</td>\n      <td>NaN</td>\n      <td>NaN</td>\n      <td>Hungary</td>\n      <td>1948</td>\n      <td>Summer</td>\n      <td>Boxing</td>\n      <td>NaN</td>\n    </tr>\n    <tr>\n      <th>1</th>\n      <td>M</td>\n      <td>NaN</td>\n      <td>NaN</td>\n      <td>NaN</td>\n      <td>Iran</td>\n      <td>1948</td>\n      <td>Summer</td>\n      <td>Wrestling</td>\n      <td>NaN</td>\n    </tr>\n    <tr>\n      <th>2</th>\n      <td>M</td>\n      <td>26.0</td>\n      <td>NaN</td>\n      <td>NaN</td>\n      <td>Great Britain</td>\n      <td>1948</td>\n      <td>Summer</td>\n      <td>Rowing</td>\n      <td>Silver</td>\n    </tr>\n    <tr>\n      <th>3</th>\n      <td>M</td>\n      <td>25.0</td>\n      <td>NaN</td>\n      <td>NaN</td>\n      <td>Italy</td>\n      <td>1948</td>\n      <td>Summer</td>\n      <td>Basketball</td>\n      <td>NaN</td>\n    </tr>\n    <tr>\n      <th>4</th>\n      <td>M</td>\n      <td>34.0</td>\n      <td>NaN</td>\n      <td>NaN</td>\n      <td>Uruguay</td>\n      <td>1948</td>\n      <td>Summer</td>\n      <td>Water Polo</td>\n      <td>NaN</td>\n    </tr>\n  </tbody>\n</table>\n</div>",
      "text/plain": "  Sex   Age  Height  Weight           Team  Year  Season       Sport   Medal\n0   M  30.0     NaN     NaN        Hungary  1948  Summer      Boxing     NaN\n1   M   NaN     NaN     NaN           Iran  1948  Summer   Wrestling     NaN\n2   M  26.0     NaN     NaN  Great Britain  1948  Summer      Rowing  Silver\n3   M  25.0     NaN     NaN          Italy  1948  Summer  Basketball     NaN\n4   M  34.0     NaN     NaN        Uruguay  1948  Summer  Water Polo     NaN"
     },
     "execution_count": 118,
     "metadata": {},
     "output_type": "execute_result"
    }
   ],
   "source": [
    "df.loc[df.Height.isnull()].head()"
   ]
  },
  {
   "cell_type": "code",
   "execution_count": 119,
   "metadata": {},
   "outputs": [
    {
     "data": {
      "text/html": "<div>\n<style scoped>\n    .dataframe tbody tr th:only-of-type {\n        vertical-align: middle;\n    }\n\n    .dataframe tbody tr th {\n        vertical-align: top;\n    }\n\n    .dataframe thead th {\n        text-align: right;\n    }\n</style>\n<table border=\"1\" class=\"dataframe\">\n  <thead>\n    <tr style=\"text-align: right;\">\n      <th></th>\n      <th>Sex</th>\n      <th>Age</th>\n      <th>Height</th>\n      <th>Weight</th>\n      <th>Team</th>\n      <th>Year</th>\n      <th>Season</th>\n      <th>Sport</th>\n      <th>Medal</th>\n    </tr>\n  </thead>\n  <tbody>\n    <tr>\n      <th>1</th>\n      <td>M</td>\n      <td>NaN</td>\n      <td>NaN</td>\n      <td>NaN</td>\n      <td>Iran</td>\n      <td>1948</td>\n      <td>Summer</td>\n      <td>Wrestling</td>\n      <td>NaN</td>\n    </tr>\n    <tr>\n      <th>5</th>\n      <td>M</td>\n      <td>NaN</td>\n      <td>NaN</td>\n      <td>NaN</td>\n      <td>Lebanon</td>\n      <td>1948</td>\n      <td>Summer</td>\n      <td>Boxing</td>\n      <td>NaN</td>\n    </tr>\n    <tr>\n      <th>9</th>\n      <td>M</td>\n      <td>NaN</td>\n      <td>NaN</td>\n      <td>NaN</td>\n      <td>Afghanistan</td>\n      <td>1948</td>\n      <td>Summer</td>\n      <td>Football</td>\n      <td>NaN</td>\n    </tr>\n    <tr>\n      <th>15</th>\n      <td>M</td>\n      <td>NaN</td>\n      <td>NaN</td>\n      <td>NaN</td>\n      <td>Czechoslovakia</td>\n      <td>1948</td>\n      <td>Summer</td>\n      <td>Boxing</td>\n      <td>NaN</td>\n    </tr>\n    <tr>\n      <th>16</th>\n      <td>M</td>\n      <td>NaN</td>\n      <td>189.0</td>\n      <td>80.0</td>\n      <td>South Korea</td>\n      <td>1948</td>\n      <td>Summer</td>\n      <td>Basketball</td>\n      <td>NaN</td>\n    </tr>\n  </tbody>\n</table>\n</div>",
      "text/plain": "   Sex  Age  Height  Weight            Team  Year  Season       Sport Medal\n1    M  NaN     NaN     NaN            Iran  1948  Summer   Wrestling   NaN\n5    M  NaN     NaN     NaN         Lebanon  1948  Summer      Boxing   NaN\n9    M  NaN     NaN     NaN     Afghanistan  1948  Summer    Football   NaN\n15   M  NaN     NaN     NaN  Czechoslovakia  1948  Summer      Boxing   NaN\n16   M  NaN   189.0    80.0     South Korea  1948  Summer  Basketball   NaN"
     },
     "execution_count": 119,
     "metadata": {},
     "output_type": "execute_result"
    }
   ],
   "source": [
    "df.loc[df.Age.isnull()].head()"
   ]
  },
  {
   "cell_type": "code",
   "execution_count": 120,
   "metadata": {},
   "outputs": [
    {
     "data": {
      "text/html": "<div>\n<style scoped>\n    .dataframe tbody tr th:only-of-type {\n        vertical-align: middle;\n    }\n\n    .dataframe tbody tr th {\n        vertical-align: top;\n    }\n\n    .dataframe thead th {\n        text-align: right;\n    }\n</style>\n<table border=\"1\" class=\"dataframe\">\n  <thead>\n    <tr style=\"text-align: right;\">\n      <th></th>\n      <th>Sex</th>\n      <th>Age</th>\n      <th>Height</th>\n      <th>Weight</th>\n      <th>Team</th>\n      <th>Year</th>\n      <th>Season</th>\n      <th>Sport</th>\n      <th>Medal</th>\n    </tr>\n  </thead>\n  <tbody>\n    <tr>\n      <th>8</th>\n      <td>M</td>\n      <td>24.0</td>\n      <td>180.0</td>\n      <td>79.0</td>\n      <td>France</td>\n      <td>1948</td>\n      <td>Summer</td>\n      <td>Cycling</td>\n      <td>Gold</td>\n    </tr>\n    <tr>\n      <th>11</th>\n      <td>M</td>\n      <td>23.0</td>\n      <td>171.0</td>\n      <td>70.0</td>\n      <td>Greece</td>\n      <td>1948</td>\n      <td>Summer</td>\n      <td>Athletics</td>\n      <td>NaN</td>\n    </tr>\n    <tr>\n      <th>13</th>\n      <td>M</td>\n      <td>23.0</td>\n      <td>171.0</td>\n      <td>70.0</td>\n      <td>Greece</td>\n      <td>1948</td>\n      <td>Summer</td>\n      <td>Athletics</td>\n      <td>NaN</td>\n    </tr>\n    <tr>\n      <th>14</th>\n      <td>M</td>\n      <td>23.0</td>\n      <td>171.0</td>\n      <td>70.0</td>\n      <td>Greece</td>\n      <td>1948</td>\n      <td>Summer</td>\n      <td>Athletics</td>\n      <td>NaN</td>\n    </tr>\n    <tr>\n      <th>20</th>\n      <td>M</td>\n      <td>26.0</td>\n      <td>176.0</td>\n      <td>72.0</td>\n      <td>Yugoslavia</td>\n      <td>1948</td>\n      <td>Summer</td>\n      <td>Athletics</td>\n      <td>NaN</td>\n    </tr>\n  </tbody>\n</table>\n</div>",
      "text/plain": "   Sex   Age  Height  Weight        Team  Year  Season      Sport Medal\n8    M  24.0   180.0    79.0      France  1948  Summer    Cycling  Gold\n11   M  23.0   171.0    70.0      Greece  1948  Summer  Athletics   NaN\n13   M  23.0   171.0    70.0      Greece  1948  Summer  Athletics   NaN\n14   M  23.0   171.0    70.0      Greece  1948  Summer  Athletics   NaN\n20   M  26.0   176.0    72.0  Yugoslavia  1948  Summer  Athletics   NaN"
     },
     "execution_count": 120,
     "metadata": {},
     "output_type": "execute_result"
    }
   ],
   "source": [
    "df.dropna(subset=['Age', 'Height', \"Weight\"], inplace = True)\n",
    "\n",
    "df.head()"
   ]
  },
  {
   "cell_type": "markdown",
   "metadata": {},
   "source": [
    "## Preparar datos para el modelo"
   ]
  },
  {
   "cell_type": "markdown",
   "metadata": {},
   "source": [
    "**Transformación de datos categóricos a numéricos**"
   ]
  },
  {
   "cell_type": "code",
   "execution_count": 121,
   "metadata": {},
   "outputs": [
    {
     "data": {
      "text/html": "<div>\n<style scoped>\n    .dataframe tbody tr th:only-of-type {\n        vertical-align: middle;\n    }\n\n    .dataframe tbody tr th {\n        vertical-align: top;\n    }\n\n    .dataframe thead th {\n        text-align: right;\n    }\n</style>\n<table border=\"1\" class=\"dataframe\">\n  <thead>\n    <tr style=\"text-align: right;\">\n      <th></th>\n      <th>Age</th>\n      <th>Height</th>\n      <th>Weight</th>\n      <th>Team</th>\n      <th>Year</th>\n      <th>Season</th>\n      <th>Sport</th>\n      <th>Medal</th>\n      <th>Sex_F</th>\n      <th>Sex_M</th>\n    </tr>\n  </thead>\n  <tbody>\n    <tr>\n      <th>8</th>\n      <td>24.0</td>\n      <td>180.0</td>\n      <td>79.0</td>\n      <td>France</td>\n      <td>1948</td>\n      <td>Summer</td>\n      <td>Cycling</td>\n      <td>Gold</td>\n      <td>0</td>\n      <td>1</td>\n    </tr>\n    <tr>\n      <th>11</th>\n      <td>23.0</td>\n      <td>171.0</td>\n      <td>70.0</td>\n      <td>Greece</td>\n      <td>1948</td>\n      <td>Summer</td>\n      <td>Athletics</td>\n      <td>NaN</td>\n      <td>0</td>\n      <td>1</td>\n    </tr>\n    <tr>\n      <th>13</th>\n      <td>23.0</td>\n      <td>171.0</td>\n      <td>70.0</td>\n      <td>Greece</td>\n      <td>1948</td>\n      <td>Summer</td>\n      <td>Athletics</td>\n      <td>NaN</td>\n      <td>0</td>\n      <td>1</td>\n    </tr>\n    <tr>\n      <th>14</th>\n      <td>23.0</td>\n      <td>171.0</td>\n      <td>70.0</td>\n      <td>Greece</td>\n      <td>1948</td>\n      <td>Summer</td>\n      <td>Athletics</td>\n      <td>NaN</td>\n      <td>0</td>\n      <td>1</td>\n    </tr>\n    <tr>\n      <th>20</th>\n      <td>26.0</td>\n      <td>176.0</td>\n      <td>72.0</td>\n      <td>Yugoslavia</td>\n      <td>1948</td>\n      <td>Summer</td>\n      <td>Athletics</td>\n      <td>NaN</td>\n      <td>0</td>\n      <td>1</td>\n    </tr>\n  </tbody>\n</table>\n</div>",
      "text/plain": "     Age  Height  Weight        Team  Year  Season      Sport Medal  Sex_F  \\\n8   24.0   180.0    79.0      France  1948  Summer    Cycling  Gold      0   \n11  23.0   171.0    70.0      Greece  1948  Summer  Athletics   NaN      0   \n13  23.0   171.0    70.0      Greece  1948  Summer  Athletics   NaN      0   \n14  23.0   171.0    70.0      Greece  1948  Summer  Athletics   NaN      0   \n20  26.0   176.0    72.0  Yugoslavia  1948  Summer  Athletics   NaN      0   \n\n    Sex_M  \n8       1  \n11      1  \n13      1  \n14      1  \n20      1  "
     },
     "execution_count": 121,
     "metadata": {},
     "output_type": "execute_result"
    }
   ],
   "source": [
    "df = pd.get_dummies(df,columns=[\"Sex\"])\n",
    "\n",
    "df.head()"
   ]
  },
  {
   "cell_type": "code",
   "execution_count": 127,
   "metadata": {},
   "outputs": [
    {
     "data": {
      "text/plain": "Bronze    9788\nGold      9592\nSilver    9445\nName: Medal, dtype: int64"
     },
     "execution_count": 127,
     "metadata": {},
     "output_type": "execute_result"
    }
   ],
   "source": [
    "df[\"Medal\"].value_counts()"
   ]
  },
  {
   "cell_type": "code",
   "execution_count": 123,
   "metadata": {},
   "outputs": [
    {
     "data": {
      "text/html": "<div>\n<style scoped>\n    .dataframe tbody tr th:only-of-type {\n        vertical-align: middle;\n    }\n\n    .dataframe tbody tr th {\n        vertical-align: top;\n    }\n\n    .dataframe thead th {\n        text-align: right;\n    }\n</style>\n<table border=\"1\" class=\"dataframe\">\n  <thead>\n    <tr style=\"text-align: right;\">\n      <th></th>\n      <th>Age</th>\n      <th>Height</th>\n      <th>Weight</th>\n      <th>Team</th>\n      <th>Year</th>\n      <th>Season</th>\n      <th>Sport</th>\n      <th>Medal</th>\n      <th>Sex_F</th>\n      <th>Sex_M</th>\n    </tr>\n  </thead>\n  <tbody>\n    <tr>\n      <th>8</th>\n      <td>24.0</td>\n      <td>180.0</td>\n      <td>79.0</td>\n      <td>France</td>\n      <td>1948</td>\n      <td>Summer</td>\n      <td>Cycling</td>\n      <td>3.0</td>\n      <td>0</td>\n      <td>1</td>\n    </tr>\n    <tr>\n      <th>11</th>\n      <td>23.0</td>\n      <td>171.0</td>\n      <td>70.0</td>\n      <td>Greece</td>\n      <td>1948</td>\n      <td>Summer</td>\n      <td>Athletics</td>\n      <td>NaN</td>\n      <td>0</td>\n      <td>1</td>\n    </tr>\n    <tr>\n      <th>13</th>\n      <td>23.0</td>\n      <td>171.0</td>\n      <td>70.0</td>\n      <td>Greece</td>\n      <td>1948</td>\n      <td>Summer</td>\n      <td>Athletics</td>\n      <td>NaN</td>\n      <td>0</td>\n      <td>1</td>\n    </tr>\n    <tr>\n      <th>14</th>\n      <td>23.0</td>\n      <td>171.0</td>\n      <td>70.0</td>\n      <td>Greece</td>\n      <td>1948</td>\n      <td>Summer</td>\n      <td>Athletics</td>\n      <td>NaN</td>\n      <td>0</td>\n      <td>1</td>\n    </tr>\n    <tr>\n      <th>20</th>\n      <td>26.0</td>\n      <td>176.0</td>\n      <td>72.0</td>\n      <td>Yugoslavia</td>\n      <td>1948</td>\n      <td>Summer</td>\n      <td>Athletics</td>\n      <td>NaN</td>\n      <td>0</td>\n      <td>1</td>\n    </tr>\n    <tr>\n      <th>...</th>\n      <td>...</td>\n      <td>...</td>\n      <td>...</td>\n      <td>...</td>\n      <td>...</td>\n      <td>...</td>\n      <td>...</td>\n      <td>...</td>\n      <td>...</td>\n      <td>...</td>\n    </tr>\n    <tr>\n      <th>232339</th>\n      <td>23.0</td>\n      <td>167.0</td>\n      <td>67.0</td>\n      <td>Ukraine</td>\n      <td>2016</td>\n      <td>Summer</td>\n      <td>Gymnastics</td>\n      <td>NaN</td>\n      <td>0</td>\n      <td>1</td>\n    </tr>\n    <tr>\n      <th>232340</th>\n      <td>23.0</td>\n      <td>167.0</td>\n      <td>67.0</td>\n      <td>Ukraine</td>\n      <td>2016</td>\n      <td>Summer</td>\n      <td>Gymnastics</td>\n      <td>NaN</td>\n      <td>0</td>\n      <td>1</td>\n    </tr>\n    <tr>\n      <th>232341</th>\n      <td>30.0</td>\n      <td>167.0</td>\n      <td>64.0</td>\n      <td>Iran</td>\n      <td>2016</td>\n      <td>Summer</td>\n      <td>Wrestling</td>\n      <td>NaN</td>\n      <td>0</td>\n      <td>1</td>\n    </tr>\n    <tr>\n      <th>232342</th>\n      <td>26.0</td>\n      <td>159.0</td>\n      <td>45.0</td>\n      <td>Morocco</td>\n      <td>2016</td>\n      <td>Summer</td>\n      <td>Athletics</td>\n      <td>NaN</td>\n      <td>1</td>\n      <td>0</td>\n    </tr>\n    <tr>\n      <th>232343</th>\n      <td>28.0</td>\n      <td>175.0</td>\n      <td>78.0</td>\n      <td>Argentina</td>\n      <td>2016</td>\n      <td>Summer</td>\n      <td>Shooting</td>\n      <td>NaN</td>\n      <td>0</td>\n      <td>1</td>\n    </tr>\n  </tbody>\n</table>\n<p>201753 rows × 10 columns</p>\n</div>",
      "text/plain": "         Age  Height  Weight        Team  Year  Season       Sport  Medal  \\\n8       24.0   180.0    79.0      France  1948  Summer     Cycling    3.0   \n11      23.0   171.0    70.0      Greece  1948  Summer   Athletics    NaN   \n13      23.0   171.0    70.0      Greece  1948  Summer   Athletics    NaN   \n14      23.0   171.0    70.0      Greece  1948  Summer   Athletics    NaN   \n20      26.0   176.0    72.0  Yugoslavia  1948  Summer   Athletics    NaN   \n...      ...     ...     ...         ...   ...     ...         ...    ...   \n232339  23.0   167.0    67.0     Ukraine  2016  Summer  Gymnastics    NaN   \n232340  23.0   167.0    67.0     Ukraine  2016  Summer  Gymnastics    NaN   \n232341  30.0   167.0    64.0        Iran  2016  Summer   Wrestling    NaN   \n232342  26.0   159.0    45.0     Morocco  2016  Summer   Athletics    NaN   \n232343  28.0   175.0    78.0   Argentina  2016  Summer    Shooting    NaN   \n\n        Sex_F  Sex_M  \n8           0      1  \n11          0      1  \n13          0      1  \n14          0      1  \n20          0      1  \n...       ...    ...  \n232339      0      1  \n232340      0      1  \n232341      0      1  \n232342      1      0  \n232343      0      1  \n\n[201753 rows x 10 columns]"
     },
     "execution_count": 123,
     "metadata": {},
     "output_type": "execute_result"
    }
   ],
   "source": [
    "df.replace(\"Gold\", 3).replace(\"Silver\", 2).replace(\"Bronze\", 1)"
   ]
  },
  {
   "cell_type": "markdown",
   "metadata": {},
   "source": [
    "## Generación de modelo"
   ]
  },
  {
   "cell_type": "markdown",
   "metadata": {},
   "source": [
    "Ver apartado de Google Colab"
   ]
  }
 ]
}